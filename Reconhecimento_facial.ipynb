{
  "nbformat": 4,
  "nbformat_minor": 0,
  "metadata": {
    "colab": {
      "provenance": [],
      "gpuType": "T4",
      "authorship_tag": "ABX9TyMPMEgwIO89UhxF6GAD/fQY",
      "include_colab_link": true
    },
    "kernelspec": {
      "name": "python3",
      "display_name": "Python 3"
    },
    "language_info": {
      "name": "python"
    },
    "accelerator": "GPU"
  },
  "cells": [
    {
      "cell_type": "markdown",
      "metadata": {
        "id": "view-in-github",
        "colab_type": "text"
      },
      "source": [
        "<a href=\"https://colab.research.google.com/github/Manudrel/Reconhecimento-Facial/blob/main/Reconhecimento_facial.ipynb\" target=\"_parent\"><img src=\"https://colab.research.google.com/assets/colab-badge.svg\" alt=\"Open In Colab\"/></a>"
      ]
    },
    {
      "cell_type": "markdown",
      "source": [
        "# **EXPLICAÇÃO**\n",
        "Foi utilizado como base para habilitar a webcam no Google Colab o NoteBook disponiblizado pelo The AI Guy no vídeo: How to Use Webcam In Google Colab for Images and Video (FACE DETECTION)\n",
        "\n",
        "[Link do Colab do The AI Guy](https://colab.research.google.com/drive/1QnC7lV7oVFk5OZCm75fqbLAfD9qBy9bw?usp=sharing)\n",
        "---"
      ],
      "metadata": {
        "id": "ht_XKX2Q0M4G"
      }
    },
    {
      "cell_type": "markdown",
      "source": [
        "# **Import das Dependencias**"
      ],
      "metadata": {
        "id": "o-GH3WiqiUwL"
      }
    },
    {
      "cell_type": "code",
      "execution_count": 30,
      "metadata": {
        "id": "Ir3tAGOPvky-"
      },
      "outputs": [],
      "source": [
        "!pip install -q ultralytics roboflow"
      ]
    },
    {
      "cell_type": "code",
      "source": [
        "from IPython.display import display, HTML, Javascript\n",
        "from google.colab.output import eval_js\n",
        "from base64 import b64decode, b64encode\n",
        "import cv2\n",
        "import numpy as np\n",
        "import PIL\n",
        "import io\n",
        "import logging\n",
        "import os\n",
        "import sys\n",
        "from contextlib import contextmanager, redirect_stdout, redirect_stderr\n",
        "from ultralytics import YOLO\n",
        "from roboflow import Roboflow"
      ],
      "metadata": {
        "id": "B6u0euj0dgO6"
      },
      "execution_count": 49,
      "outputs": []
    },
    {
      "cell_type": "markdown",
      "source": [
        "# **Parte da Câmera — Funções básicas**\n",
        "Esta seção é responsável por habilitar a webcam no Google Colab e preparar o ambiente para capturar imagens em tempo real.\n",
        "---"
      ],
      "metadata": {
        "id": "Gqzhb7evhX1N"
      }
    },
    {
      "cell_type": "code",
      "source": [
        "video_html = \"\"\"\n",
        "<video id=\"video\" width=640 height=480 autoplay muted></video>\n",
        "<canvas id=\"canvas\" width=640 height=480 style=\"position:absolute;top:0;left:0;\"></canvas>\n",
        "<script>\n",
        "var video = document.getElementById('video');\n",
        "navigator.mediaDevices.getUserMedia({ video: true })\n",
        "  .then(function(stream) {\n",
        "    video.srcObject = stream;\n",
        "    video.play();\n",
        "  });\n",
        "</script>\n",
        "\"\"\"\n",
        "\n",
        "display(HTML(video_html))"
      ],
      "metadata": {
        "id": "OVDvzhMmy00o"
      },
      "execution_count": null,
      "outputs": []
    },
    {
      "cell_type": "code",
      "source": [
        "def js_to_image(js_reply):\n",
        "    image_bytes = b64decode(js_reply.split(',')[1])\n",
        "    jpg_as_np = np.frombuffer(image_bytes, dtype=np.uint8)\n",
        "    img = cv2.imdecode(jpg_as_np, flags=1)\n",
        "    return img\n",
        "\n",
        "def bbox_to_bytes(bbox_array):\n",
        "    bbox_PIL = PIL.Image.fromarray(bbox_array, 'RGBA')\n",
        "    iobuf = io.BytesIO()\n",
        "    bbox_PIL.save(iobuf, format='png')\n",
        "    bbox_bytes = 'data:image/png;base64,{}'.format(\n",
        "        str(b64encode(iobuf.getvalue()), 'utf-8'))\n",
        "    return bbox_bytes\n",
        "\n",
        "def video_frame(label, bbox):\n",
        "    data = eval_js('stream_frame(\"{}\", \"{}\")'.format(label, bbox))\n",
        "    return data\n"
      ],
      "metadata": {
        "id": "jVCipyMYf1Ig"
      },
      "execution_count": 47,
      "outputs": []
    },
    {
      "cell_type": "code",
      "source": [
        "def video_stream():\n",
        "    display(Javascript('''\n",
        "        var video;\n",
        "        var div = null;\n",
        "        var stream;\n",
        "        var captureCanvas;\n",
        "        var imgElement;\n",
        "        var labelElement;\n",
        "        var pendingResolve = null;\n",
        "        var shutdown = false;\n",
        "\n",
        "        function removeDom() {\n",
        "            stream.getVideoTracks()[0].stop();\n",
        "            video.remove();\n",
        "            div.remove();\n",
        "            video = null;\n",
        "            div = null;\n",
        "            stream = null;\n",
        "            imgElement = null;\n",
        "            captureCanvas = null;\n",
        "            labelElement = null;\n",
        "        }\n",
        "\n",
        "        function onAnimationFrame() {\n",
        "            if (!shutdown) {\n",
        "                window.requestAnimationFrame(onAnimationFrame);\n",
        "            }\n",
        "            if (pendingResolve) {\n",
        "                var result = \"\";\n",
        "                if (!shutdown) {\n",
        "                    captureCanvas.getContext('2d').drawImage(video, 0, 0, 640, 480);\n",
        "                    result = captureCanvas.toDataURL('image/jpeg', 0.8)\n",
        "                }\n",
        "                var lp = pendingResolve;\n",
        "                pendingResolve = null;\n",
        "                lp(result);\n",
        "            }\n",
        "        }\n",
        "\n",
        "        async function createDom() {\n",
        "            if (div !== null) return stream;\n",
        "\n",
        "            div = document.createElement('div');\n",
        "            div.style.border = '2px solid black';\n",
        "            div.style.padding = '3px';\n",
        "            div.style.width = '100%';\n",
        "            div.style.maxWidth = '600px';\n",
        "            document.body.appendChild(div);\n",
        "\n",
        "            const modelOut = document.createElement('div');\n",
        "            modelOut.innerHTML = \"<span>Status:</span>\";\n",
        "            labelElement = document.createElement('span');\n",
        "            labelElement.innerText = 'No data';\n",
        "            labelElement.style.fontWeight = 'bold';\n",
        "            modelOut.appendChild(labelElement);\n",
        "            div.appendChild(modelOut);\n",
        "\n",
        "            video = document.createElement('video');\n",
        "            video.style.display = 'block';\n",
        "            video.width = div.clientWidth - 6;\n",
        "            video.setAttribute('playsinline', '');\n",
        "            video.onclick = () => { shutdown = true; };\n",
        "            stream = await navigator.mediaDevices.getUserMedia({video: { facingMode: \"user\"}});\n",
        "            div.appendChild(video);\n",
        "\n",
        "            imgElement = document.createElement('img');\n",
        "            imgElement.style.position = 'absolute';\n",
        "            imgElement.style.zIndex = 1;\n",
        "            imgElement.onclick = () => { shutdown = true; };\n",
        "            div.appendChild(imgElement);\n",
        "\n",
        "            const instruction = document.createElement('div');\n",
        "            instruction.innerHTML = '<span style=\"color: red; font-weight: bold;\">Clique para parar</span>';\n",
        "            div.appendChild(instruction);\n",
        "            instruction.onclick = () => { shutdown = true; };\n",
        "\n",
        "            video.srcObject = stream;\n",
        "            await video.play();\n",
        "\n",
        "            captureCanvas = document.createElement('canvas');\n",
        "            captureCanvas.width = 640;\n",
        "            captureCanvas.height = 480;\n",
        "            window.requestAnimationFrame(onAnimationFrame);\n",
        "\n",
        "            return stream;\n",
        "        }\n",
        "\n",
        "        async function stream_frame(label, imgData) {\n",
        "            if (shutdown) {\n",
        "                removeDom();\n",
        "                shutdown = false;\n",
        "                return '';\n",
        "            }\n",
        "\n",
        "            stream = await createDom();\n",
        "\n",
        "            if (label != \"\") {\n",
        "                labelElement.innerHTML = label;\n",
        "            }\n",
        "\n",
        "            if (imgData != \"\") {\n",
        "                var videoRect = video.getClientRects()[0];\n",
        "                imgElement.style.top = videoRect.top + \"px\";\n",
        "                imgElement.style.left = videoRect.left + \"px\";\n",
        "                imgElement.style.width = videoRect.width + \"px\";\n",
        "                imgElement.style.height = videoRect.height + \"px\";\n",
        "                imgElement.src = imgData;\n",
        "            }\n",
        "\n",
        "            var result = await new Promise(function(resolve, reject) {\n",
        "                pendingResolve = resolve;\n",
        "            });\n",
        "            shutdown = false;\n",
        "\n",
        "            return {\n",
        "                'img': result\n",
        "            };\n",
        "        }\n",
        "    '''))"
      ],
      "metadata": {
        "id": "avRo8D8Qru3J"
      },
      "execution_count": 33,
      "outputs": []
    },
    {
      "cell_type": "markdown",
      "source": [
        "# **Criação/Treinamento do Modelo — Detecção de rostos com YOLO**\n",
        "Nesta parte, o modelo YOLO é criado e treinado com um dataset do roboflow"
      ],
      "metadata": {
        "id": "6PaQ1iIyh2Rq"
      }
    },
    {
      "cell_type": "code",
      "source": [
        "rf = Roboflow(api_key=\"COLOQUE_SUA_API_KEY\") # API KEY (Chave pessoal do roboflow)\n",
        "project = rf.workspace(\"COLOQUE_SEU_WORKSPACE\").project(\"mussergesichterzensieren-rlkcm\") # rf.workscape(nome_do_usuário).project(nome_do_projeto)\n",
        "version = project.version(1)\n",
        "dataset = version.download(\"yolov8\")\n",
        ""
      ],
      "metadata": {
        "colab": {
          "base_uri": "https://localhost:8080/"
        },
        "id": "Xa-7z5HQziPH",
        "outputId": "a88fefa2-9794-4ec4-8744-e063c2e26f14"
      },
      "execution_count": 34,
      "outputs": [
        {
          "output_type": "stream",
          "name": "stdout",
          "text": [
            "loading Roboflow workspace...\n",
            "loading Roboflow project...\n"
          ]
        }
      ]
    },
    {
      "cell_type": "code",
      "source": [
        "model = YOLO(\"yolov8n.pt\")\n",
        "\n",
        "model.train(\n",
        "     data = \"/content/MusserGesichterZensieren-1/data.yaml\",\n",
        "     epochs = 20,\n",
        "     imgsz = 640,\n",
        " )"
      ],
      "metadata": {
        "id": "sMsqfje1wV38",
        "colab": {
          "base_uri": "https://localhost:8080/"
        },
        "outputId": "f7c59cb5-a3aa-413f-ea33-825cedb44789",
        "collapsed": true
      },
      "execution_count": 35,
      "outputs": [
        {
          "output_type": "stream",
          "name": "stdout",
          "text": [
            "Downloading https://github.com/ultralytics/assets/releases/download/v8.3.0/yolov8n.pt to 'yolov8n.pt'...\n"
          ]
        },
        {
          "output_type": "stream",
          "name": "stderr",
          "text": [
            "100%|██████████| 6.25M/6.25M [00:00<00:00, 121MB/s]"
          ]
        },
        {
          "output_type": "stream",
          "name": "stdout",
          "text": [
            "Ultralytics 8.3.168 🚀 Python-3.11.13 torch-2.6.0+cu124 CUDA:0 (Tesla T4, 15095MiB)\n",
            "\u001b[34m\u001b[1mengine/trainer: \u001b[0magnostic_nms=False, amp=True, augment=False, auto_augment=randaugment, batch=16, bgr=0.0, box=7.5, cache=False, cfg=None, classes=None, close_mosaic=10, cls=0.5, conf=None, copy_paste=0.0, copy_paste_mode=flip, cos_lr=False, cutmix=0.0, data=/content/MusserGesichterZensieren-1/data.yaml, degrees=0.0, deterministic=True, device=None, dfl=1.5, dnn=False, dropout=0.0, dynamic=False, embed=None, epochs=20, erasing=0.4, exist_ok=False, fliplr=0.5, flipud=0.0, format=torchscript, fraction=1.0, freeze=None, half=False, hsv_h=0.015, hsv_s=0.7, hsv_v=0.4, imgsz=640, int8=False, iou=0.7, keras=False, kobj=1.0, line_width=None, lr0=0.01, lrf=0.01, mask_ratio=4, max_det=300, mixup=0.0, mode=train, model=yolov8n.pt, momentum=0.937, mosaic=1.0, multi_scale=False, name=train2, nbs=64, nms=False, opset=None, optimize=False, optimizer=auto, overlap_mask=True, patience=100, perspective=0.0, plots=True, pose=12.0, pretrained=True, profile=False, project=None, rect=False, resume=False, retina_masks=False, save=True, save_conf=False, save_crop=False, save_dir=runs/detect/train2, save_frames=False, save_json=False, save_period=-1, save_txt=False, scale=0.5, seed=0, shear=0.0, show=False, show_boxes=True, show_conf=True, show_labels=True, simplify=True, single_cls=False, source=None, split=val, stream_buffer=False, task=detect, time=None, tracker=botsort.yaml, translate=0.1, val=True, verbose=True, vid_stride=1, visualize=False, warmup_bias_lr=0.1, warmup_epochs=3.0, warmup_momentum=0.8, weight_decay=0.0005, workers=8, workspace=None\n",
            "Overriding model.yaml nc=80 with nc=1\n",
            "\n",
            "                   from  n    params  module                                       arguments                     \n"
          ]
        },
        {
          "output_type": "stream",
          "name": "stderr",
          "text": [
            "\n"
          ]
        },
        {
          "output_type": "stream",
          "name": "stdout",
          "text": [
            "  0                  -1  1       464  ultralytics.nn.modules.conv.Conv             [3, 16, 3, 2]                 \n",
            "  1                  -1  1      4672  ultralytics.nn.modules.conv.Conv             [16, 32, 3, 2]                \n",
            "  2                  -1  1      7360  ultralytics.nn.modules.block.C2f             [32, 32, 1, True]             \n",
            "  3                  -1  1     18560  ultralytics.nn.modules.conv.Conv             [32, 64, 3, 2]                \n",
            "  4                  -1  2     49664  ultralytics.nn.modules.block.C2f             [64, 64, 2, True]             \n",
            "  5                  -1  1     73984  ultralytics.nn.modules.conv.Conv             [64, 128, 3, 2]               \n",
            "  6                  -1  2    197632  ultralytics.nn.modules.block.C2f             [128, 128, 2, True]           \n",
            "  7                  -1  1    295424  ultralytics.nn.modules.conv.Conv             [128, 256, 3, 2]              \n",
            "  8                  -1  1    460288  ultralytics.nn.modules.block.C2f             [256, 256, 1, True]           \n",
            "  9                  -1  1    164608  ultralytics.nn.modules.block.SPPF            [256, 256, 5]                 \n",
            " 10                  -1  1         0  torch.nn.modules.upsampling.Upsample         [None, 2, 'nearest']          \n",
            " 11             [-1, 6]  1         0  ultralytics.nn.modules.conv.Concat           [1]                           \n",
            " 12                  -1  1    148224  ultralytics.nn.modules.block.C2f             [384, 128, 1]                 \n",
            " 13                  -1  1         0  torch.nn.modules.upsampling.Upsample         [None, 2, 'nearest']          \n",
            " 14             [-1, 4]  1         0  ultralytics.nn.modules.conv.Concat           [1]                           \n",
            " 15                  -1  1     37248  ultralytics.nn.modules.block.C2f             [192, 64, 1]                  \n",
            " 16                  -1  1     36992  ultralytics.nn.modules.conv.Conv             [64, 64, 3, 2]                \n",
            " 17            [-1, 12]  1         0  ultralytics.nn.modules.conv.Concat           [1]                           \n",
            " 18                  -1  1    123648  ultralytics.nn.modules.block.C2f             [192, 128, 1]                 \n",
            " 19                  -1  1    147712  ultralytics.nn.modules.conv.Conv             [128, 128, 3, 2]              \n",
            " 20             [-1, 9]  1         0  ultralytics.nn.modules.conv.Concat           [1]                           \n",
            " 21                  -1  1    493056  ultralytics.nn.modules.block.C2f             [384, 256, 1]                 \n",
            " 22        [15, 18, 21]  1    751507  ultralytics.nn.modules.head.Detect           [1, [64, 128, 256]]           \n",
            "Model summary: 129 layers, 3,011,043 parameters, 3,011,027 gradients, 8.2 GFLOPs\n",
            "\n",
            "Transferred 319/355 items from pretrained weights\n",
            "Freezing layer 'model.22.dfl.conv.weight'\n",
            "\u001b[34m\u001b[1mAMP: \u001b[0mrunning Automatic Mixed Precision (AMP) checks...\n",
            "\u001b[34m\u001b[1mAMP: \u001b[0mchecks passed ✅\n",
            "\u001b[34m\u001b[1mtrain: \u001b[0mFast image access ✅ (ping: 0.0±0.0 ms, read: 907.1±435.8 MB/s, size: 42.6 KB)\n"
          ]
        },
        {
          "output_type": "stream",
          "name": "stderr",
          "text": [
            "\u001b[34m\u001b[1mtrain: \u001b[0mScanning /content/MusserGesichterZensieren-1/train/labels.cache... 1355 images, 8 backgrounds, 0 corrupt: 100%|██████████| 1355/1355 [00:00<?, ?it/s]"
          ]
        },
        {
          "output_type": "stream",
          "name": "stdout",
          "text": [
            "\u001b[34m\u001b[1malbumentations: \u001b[0mBlur(p=0.01, blur_limit=(3, 7)), MedianBlur(p=0.01, blur_limit=(3, 7)), ToGray(p=0.01, method='weighted_average', num_output_channels=3), CLAHE(p=0.01, clip_limit=(1.0, 4.0), tile_grid_size=(8, 8))\n"
          ]
        },
        {
          "output_type": "stream",
          "name": "stderr",
          "text": [
            "\n"
          ]
        },
        {
          "output_type": "stream",
          "name": "stdout",
          "text": [
            "\u001b[34m\u001b[1mval: \u001b[0mFast image access ✅ (ping: 0.0±0.0 ms, read: 355.2±82.6 MB/s, size: 43.6 KB)\n"
          ]
        },
        {
          "output_type": "stream",
          "name": "stderr",
          "text": [
            "\u001b[34m\u001b[1mval: \u001b[0mScanning /content/MusserGesichterZensieren-1/valid/labels.cache... 260 images, 0 backgrounds, 0 corrupt: 100%|██████████| 260/260 [00:00<?, ?it/s]"
          ]
        },
        {
          "output_type": "stream",
          "name": "stdout",
          "text": [
            "\u001b[34m\u001b[1mval: \u001b[0m/content/MusserGesichterZensieren-1/valid/images/107_jpg.rf.bf9144d7ff47b05abd6b0c6e604aac21.jpg: 2 duplicate labels removed\n",
            "\u001b[34m\u001b[1mval: \u001b[0m/content/MusserGesichterZensieren-1/valid/images/10_jpg.rf.2e10738c8985753871eb6dac1b78df55.jpg: 2 duplicate labels removed\n",
            "\u001b[34m\u001b[1mval: \u001b[0m/content/MusserGesichterZensieren-1/valid/images/110_jpg.rf.4b662a4e14758b7a664124917e7c6484.jpg: 2 duplicate labels removed\n",
            "\u001b[34m\u001b[1mval: \u001b[0m/content/MusserGesichterZensieren-1/valid/images/111_jpg.rf.e7b15827a097b08a4a1d5ac4c00b3785.jpg: 2 duplicate labels removed\n",
            "\u001b[34m\u001b[1mval: \u001b[0m/content/MusserGesichterZensieren-1/valid/images/114_jpg.rf.4e618c32cf5f11c7d2204283399e452c.jpg: 2 duplicate labels removed\n",
            "\u001b[34m\u001b[1mval: \u001b[0m/content/MusserGesichterZensieren-1/valid/images/115_jpg.rf.00b2c0f4bbc73abb6a6b886723952a9b.jpg: 2 duplicate labels removed\n",
            "\u001b[34m\u001b[1mval: \u001b[0m/content/MusserGesichterZensieren-1/valid/images/116_jpg.rf.8c1aecaf3bc0ec130107045bdbde01f5.jpg: 2 duplicate labels removed\n",
            "\u001b[34m\u001b[1mval: \u001b[0m/content/MusserGesichterZensieren-1/valid/images/119_jpg.rf.409fc83fbde5823b5783166d62c2faa6.jpg: 2 duplicate labels removed\n",
            "\u001b[34m\u001b[1mval: \u001b[0m/content/MusserGesichterZensieren-1/valid/images/11_jpg.rf.602bdc08d72aef74ec75a0a0ddd4b4a4.jpg: 2 duplicate labels removed\n",
            "\u001b[34m\u001b[1mval: \u001b[0m/content/MusserGesichterZensieren-1/valid/images/123_jpg.rf.2344cfc5a2d5ffdf32f9e1b113e0e355.jpg: 2 duplicate labels removed\n",
            "\u001b[34m\u001b[1mval: \u001b[0m/content/MusserGesichterZensieren-1/valid/images/127_jpg.rf.7aa26ea2df07ab13ca6a04a30b460609.jpg: 2 duplicate labels removed\n",
            "\u001b[34m\u001b[1mval: \u001b[0m/content/MusserGesichterZensieren-1/valid/images/128_jpg.rf.7b47dbd13270f9c4cc12ac112a38ce6d.jpg: 2 duplicate labels removed\n",
            "\u001b[34m\u001b[1mval: \u001b[0m/content/MusserGesichterZensieren-1/valid/images/133_jpg.rf.0b17d5f7dd6bc6e9b54749a1ca60bf8f.jpg: 2 duplicate labels removed\n",
            "\u001b[34m\u001b[1mval: \u001b[0m/content/MusserGesichterZensieren-1/valid/images/135_jpg.rf.89fb8dd2211c6c313071ffca00e79997.jpg: 2 duplicate labels removed\n",
            "\u001b[34m\u001b[1mval: \u001b[0m/content/MusserGesichterZensieren-1/valid/images/143_jpg.rf.bb1ac9005f02edd03aa959063f976d19.jpg: 2 duplicate labels removed\n",
            "\u001b[34m\u001b[1mval: \u001b[0m/content/MusserGesichterZensieren-1/valid/images/149_jpg.rf.5ce183cc8f3675e14e1d122db474b59a.jpg: 2 duplicate labels removed\n",
            "\u001b[34m\u001b[1mval: \u001b[0m/content/MusserGesichterZensieren-1/valid/images/156_jpg.rf.f6fb63b7bd58258ad2fcdd09b7fc5261.jpg: 2 duplicate labels removed\n",
            "\u001b[34m\u001b[1mval: \u001b[0m/content/MusserGesichterZensieren-1/valid/images/162_jpg.rf.a0bab7e19fad484d77f08d0242d31cfa.jpg: 2 duplicate labels removed\n",
            "\u001b[34m\u001b[1mval: \u001b[0m/content/MusserGesichterZensieren-1/valid/images/16_jpg.rf.6fd60daea50a5a6d739d3e807cac621f.jpg: 2 duplicate labels removed\n",
            "\u001b[34m\u001b[1mval: \u001b[0m/content/MusserGesichterZensieren-1/valid/images/172_jpg.rf.da958cdd0b3c64cd9fa5e35989faf6da.jpg: 2 duplicate labels removed\n",
            "\u001b[34m\u001b[1mval: \u001b[0m/content/MusserGesichterZensieren-1/valid/images/183_jpg.rf.2d712da1aa37928b36b6b0f1bdaacd75.jpg: 2 duplicate labels removed\n",
            "\u001b[34m\u001b[1mval: \u001b[0m/content/MusserGesichterZensieren-1/valid/images/18_jpg.rf.f339a897f35b510468963713b0189150.jpg: 2 duplicate labels removed\n",
            "\u001b[34m\u001b[1mval: \u001b[0m/content/MusserGesichterZensieren-1/valid/images/192_jpg.rf.409313fab3f5b4a0cf2a2ede80ae8ca2.jpg: 2 duplicate labels removed\n",
            "\u001b[34m\u001b[1mval: \u001b[0m/content/MusserGesichterZensieren-1/valid/images/197_jpg.rf.71dc48866311ea4f420eba87676b68ef.jpg: 2 duplicate labels removed\n",
            "\u001b[34m\u001b[1mval: \u001b[0m/content/MusserGesichterZensieren-1/valid/images/19_jpg.rf.f5b93d8bc212e292c19b87f4a4967965.jpg: 2 duplicate labels removed\n",
            "\u001b[34m\u001b[1mval: \u001b[0m/content/MusserGesichterZensieren-1/valid/images/201_jpg.rf.1562c0b79650ff7504836eb1a9cc1251.jpg: 2 duplicate labels removed\n",
            "\u001b[34m\u001b[1mval: \u001b[0m/content/MusserGesichterZensieren-1/valid/images/203_jpg.rf.7639841582e35f4ac861e8671043d1bd.jpg: 2 duplicate labels removed\n",
            "\u001b[34m\u001b[1mval: \u001b[0m/content/MusserGesichterZensieren-1/valid/images/204_jpg.rf.6ffbb35dbb2988cd0da00c9b816bf078.jpg: 2 duplicate labels removed\n",
            "\u001b[34m\u001b[1mval: \u001b[0m/content/MusserGesichterZensieren-1/valid/images/20_jpg.rf.66a86287a84fdf6c36360f76d6552d67.jpg: 2 duplicate labels removed\n"
          ]
        },
        {
          "output_type": "stream",
          "name": "stderr",
          "text": [
            "\n"
          ]
        },
        {
          "output_type": "stream",
          "name": "stdout",
          "text": [
            "Plotting labels to runs/detect/train2/labels.jpg... \n",
            "\u001b[34m\u001b[1moptimizer:\u001b[0m 'optimizer=auto' found, ignoring 'lr0=0.01' and 'momentum=0.937' and determining best 'optimizer', 'lr0' and 'momentum' automatically... \n",
            "\u001b[34m\u001b[1moptimizer:\u001b[0m AdamW(lr=0.002, momentum=0.9) with parameter groups 57 weight(decay=0.0), 64 weight(decay=0.0005), 63 bias(decay=0.0)\n",
            "Image sizes 640 train, 640 val\n",
            "Using 2 dataloader workers\n",
            "Logging results to \u001b[1mruns/detect/train2\u001b[0m\n",
            "Starting training for 20 epochs...\n",
            "\n",
            "      Epoch    GPU_mem   box_loss   cls_loss   dfl_loss  Instances       Size\n"
          ]
        },
        {
          "output_type": "stream",
          "name": "stderr",
          "text": [
            "       1/20      2.21G      0.975      1.524       1.25         32        640: 100%|██████████| 85/85 [00:30<00:00,  2.77it/s]\n",
            "                 Class     Images  Instances      Box(P          R      mAP50  mAP50-95): 100%|██████████| 9/9 [00:02<00:00,  3.39it/s]"
          ]
        },
        {
          "output_type": "stream",
          "name": "stdout",
          "text": [
            "                   all        260        357      0.876      0.615      0.696      0.342\n"
          ]
        },
        {
          "output_type": "stream",
          "name": "stderr",
          "text": [
            "\n"
          ]
        },
        {
          "output_type": "stream",
          "name": "stdout",
          "text": [
            "\n",
            "      Epoch    GPU_mem   box_loss   cls_loss   dfl_loss  Instances       Size\n"
          ]
        },
        {
          "output_type": "stream",
          "name": "stderr",
          "text": [
            "       2/20      2.69G      0.972      1.033      1.196         35        640: 100%|██████████| 85/85 [00:24<00:00,  3.48it/s]\n",
            "                 Class     Images  Instances      Box(P          R      mAP50  mAP50-95): 100%|██████████| 9/9 [00:02<00:00,  3.55it/s]"
          ]
        },
        {
          "output_type": "stream",
          "name": "stdout",
          "text": [
            "                   all        260        357      0.727      0.537       0.59      0.342\n"
          ]
        },
        {
          "output_type": "stream",
          "name": "stderr",
          "text": [
            "\n"
          ]
        },
        {
          "output_type": "stream",
          "name": "stdout",
          "text": [
            "\n",
            "      Epoch    GPU_mem   box_loss   cls_loss   dfl_loss  Instances       Size\n"
          ]
        },
        {
          "output_type": "stream",
          "name": "stderr",
          "text": [
            "       3/20      2.69G     0.9628     0.9202      1.196         48        640: 100%|██████████| 85/85 [00:24<00:00,  3.48it/s]\n",
            "                 Class     Images  Instances      Box(P          R      mAP50  mAP50-95): 100%|██████████| 9/9 [00:02<00:00,  3.84it/s]"
          ]
        },
        {
          "output_type": "stream",
          "name": "stdout",
          "text": [
            "                   all        260        357      0.685      0.557      0.614      0.271\n"
          ]
        },
        {
          "output_type": "stream",
          "name": "stderr",
          "text": [
            "\n"
          ]
        },
        {
          "output_type": "stream",
          "name": "stdout",
          "text": [
            "\n",
            "      Epoch    GPU_mem   box_loss   cls_loss   dfl_loss  Instances       Size\n"
          ]
        },
        {
          "output_type": "stream",
          "name": "stderr",
          "text": [
            "       4/20      2.69G     0.9404     0.8007      1.176         38        640: 100%|██████████| 85/85 [00:25<00:00,  3.29it/s]\n",
            "                 Class     Images  Instances      Box(P          R      mAP50  mAP50-95): 100%|██████████| 9/9 [00:02<00:00,  4.08it/s]"
          ]
        },
        {
          "output_type": "stream",
          "name": "stdout",
          "text": [
            "                   all        260        357      0.719      0.546       0.62      0.322\n"
          ]
        },
        {
          "output_type": "stream",
          "name": "stderr",
          "text": [
            "\n"
          ]
        },
        {
          "output_type": "stream",
          "name": "stdout",
          "text": [
            "\n",
            "      Epoch    GPU_mem   box_loss   cls_loss   dfl_loss  Instances       Size\n"
          ]
        },
        {
          "output_type": "stream",
          "name": "stderr",
          "text": [
            "       5/20      2.69G     0.8957     0.7375      1.153         32        640: 100%|██████████| 85/85 [00:24<00:00,  3.44it/s]\n",
            "                 Class     Images  Instances      Box(P          R      mAP50  mAP50-95): 100%|██████████| 9/9 [00:02<00:00,  4.19it/s]"
          ]
        },
        {
          "output_type": "stream",
          "name": "stdout",
          "text": [
            "                   all        260        357      0.799      0.709      0.768      0.402\n"
          ]
        },
        {
          "output_type": "stream",
          "name": "stderr",
          "text": [
            "\n"
          ]
        },
        {
          "output_type": "stream",
          "name": "stdout",
          "text": [
            "\n",
            "      Epoch    GPU_mem   box_loss   cls_loss   dfl_loss  Instances       Size\n"
          ]
        },
        {
          "output_type": "stream",
          "name": "stderr",
          "text": [
            "       6/20      2.69G     0.8857     0.6929      1.139         36        640: 100%|██████████| 85/85 [00:24<00:00,  3.43it/s]\n",
            "                 Class     Images  Instances      Box(P          R      mAP50  mAP50-95): 100%|██████████| 9/9 [00:02<00:00,  4.00it/s]"
          ]
        },
        {
          "output_type": "stream",
          "name": "stdout",
          "text": [
            "                   all        260        357      0.835      0.762      0.829      0.433\n"
          ]
        },
        {
          "output_type": "stream",
          "name": "stderr",
          "text": [
            "\n"
          ]
        },
        {
          "output_type": "stream",
          "name": "stdout",
          "text": [
            "\n",
            "      Epoch    GPU_mem   box_loss   cls_loss   dfl_loss  Instances       Size\n"
          ]
        },
        {
          "output_type": "stream",
          "name": "stderr",
          "text": [
            "       7/20      2.69G     0.8361     0.6517      1.121         45        640: 100%|██████████| 85/85 [00:24<00:00,  3.45it/s]\n",
            "                 Class     Images  Instances      Box(P          R      mAP50  mAP50-95): 100%|██████████| 9/9 [00:03<00:00,  2.45it/s]"
          ]
        },
        {
          "output_type": "stream",
          "name": "stdout",
          "text": [
            "                   all        260        357      0.801      0.733      0.787      0.429\n"
          ]
        },
        {
          "output_type": "stream",
          "name": "stderr",
          "text": [
            "\n"
          ]
        },
        {
          "output_type": "stream",
          "name": "stdout",
          "text": [
            "\n",
            "      Epoch    GPU_mem   box_loss   cls_loss   dfl_loss  Instances       Size\n"
          ]
        },
        {
          "output_type": "stream",
          "name": "stderr",
          "text": [
            "       8/20      2.69G     0.8189     0.6164      1.111         37        640: 100%|██████████| 85/85 [00:26<00:00,  3.20it/s]\n",
            "                 Class     Images  Instances      Box(P          R      mAP50  mAP50-95): 100%|██████████| 9/9 [00:02<00:00,  3.80it/s]"
          ]
        },
        {
          "output_type": "stream",
          "name": "stdout",
          "text": [
            "                   all        260        357      0.874      0.698      0.819      0.436\n"
          ]
        },
        {
          "output_type": "stream",
          "name": "stderr",
          "text": [
            "\n"
          ]
        },
        {
          "output_type": "stream",
          "name": "stdout",
          "text": [
            "\n",
            "      Epoch    GPU_mem   box_loss   cls_loss   dfl_loss  Instances       Size\n"
          ]
        },
        {
          "output_type": "stream",
          "name": "stderr",
          "text": [
            "       9/20      2.69G     0.7997     0.5937      1.092         25        640: 100%|██████████| 85/85 [00:25<00:00,  3.39it/s]\n",
            "                 Class     Images  Instances      Box(P          R      mAP50  mAP50-95): 100%|██████████| 9/9 [00:02<00:00,  4.20it/s]"
          ]
        },
        {
          "output_type": "stream",
          "name": "stdout",
          "text": [
            "                   all        260        357      0.865      0.751      0.817      0.444\n"
          ]
        },
        {
          "output_type": "stream",
          "name": "stderr",
          "text": [
            "\n"
          ]
        },
        {
          "output_type": "stream",
          "name": "stdout",
          "text": [
            "\n",
            "      Epoch    GPU_mem   box_loss   cls_loss   dfl_loss  Instances       Size\n"
          ]
        },
        {
          "output_type": "stream",
          "name": "stderr",
          "text": [
            "      10/20      2.69G     0.7747     0.5573      1.076         35        640: 100%|██████████| 85/85 [00:24<00:00,  3.46it/s]\n",
            "                 Class     Images  Instances      Box(P          R      mAP50  mAP50-95): 100%|██████████| 9/9 [00:02<00:00,  3.78it/s]"
          ]
        },
        {
          "output_type": "stream",
          "name": "stdout",
          "text": [
            "                   all        260        357      0.842      0.829      0.864      0.482\n"
          ]
        },
        {
          "output_type": "stream",
          "name": "stderr",
          "text": [
            "\n"
          ]
        },
        {
          "output_type": "stream",
          "name": "stdout",
          "text": [
            "Closing dataloader mosaic\n",
            "\u001b[34m\u001b[1malbumentations: \u001b[0mBlur(p=0.01, blur_limit=(3, 7)), MedianBlur(p=0.01, blur_limit=(3, 7)), ToGray(p=0.01, method='weighted_average', num_output_channels=3), CLAHE(p=0.01, clip_limit=(1.0, 4.0), tile_grid_size=(8, 8))\n",
            "\n",
            "      Epoch    GPU_mem   box_loss   cls_loss   dfl_loss  Instances       Size\n"
          ]
        },
        {
          "output_type": "stream",
          "name": "stderr",
          "text": [
            "      11/20      2.69G     0.7503     0.5469      1.114         18        640: 100%|██████████| 85/85 [00:25<00:00,  3.31it/s]\n",
            "                 Class     Images  Instances      Box(P          R      mAP50  mAP50-95): 100%|██████████| 9/9 [00:02<00:00,  4.18it/s]"
          ]
        },
        {
          "output_type": "stream",
          "name": "stdout",
          "text": [
            "                   all        260        357      0.827      0.801      0.854      0.484\n"
          ]
        },
        {
          "output_type": "stream",
          "name": "stderr",
          "text": [
            "\n"
          ]
        },
        {
          "output_type": "stream",
          "name": "stdout",
          "text": [
            "\n",
            "      Epoch    GPU_mem   box_loss   cls_loss   dfl_loss  Instances       Size\n"
          ]
        },
        {
          "output_type": "stream",
          "name": "stderr",
          "text": [
            "      12/20      2.69G     0.7141     0.4858      1.077         27        640: 100%|██████████| 85/85 [00:23<00:00,  3.64it/s]\n",
            "                 Class     Images  Instances      Box(P          R      mAP50  mAP50-95): 100%|██████████| 9/9 [00:02<00:00,  3.57it/s]"
          ]
        },
        {
          "output_type": "stream",
          "name": "stdout",
          "text": [
            "                   all        260        357      0.873      0.796      0.867      0.469\n"
          ]
        },
        {
          "output_type": "stream",
          "name": "stderr",
          "text": [
            "\n"
          ]
        },
        {
          "output_type": "stream",
          "name": "stdout",
          "text": [
            "\n",
            "      Epoch    GPU_mem   box_loss   cls_loss   dfl_loss  Instances       Size\n"
          ]
        },
        {
          "output_type": "stream",
          "name": "stderr",
          "text": [
            "      13/20      2.69G     0.7038     0.4683      1.067         21        640: 100%|██████████| 85/85 [00:23<00:00,  3.59it/s]\n",
            "                 Class     Images  Instances      Box(P          R      mAP50  mAP50-95): 100%|██████████| 9/9 [00:02<00:00,  4.14it/s]"
          ]
        },
        {
          "output_type": "stream",
          "name": "stdout",
          "text": [
            "                   all        260        357      0.922        0.8      0.886      0.481\n"
          ]
        },
        {
          "output_type": "stream",
          "name": "stderr",
          "text": [
            "\n"
          ]
        },
        {
          "output_type": "stream",
          "name": "stdout",
          "text": [
            "\n",
            "      Epoch    GPU_mem   box_loss   cls_loss   dfl_loss  Instances       Size\n"
          ]
        },
        {
          "output_type": "stream",
          "name": "stderr",
          "text": [
            "      14/20      2.69G     0.6899     0.4402      1.053         24        640: 100%|██████████| 85/85 [00:23<00:00,  3.58it/s]\n",
            "                 Class     Images  Instances      Box(P          R      mAP50  mAP50-95): 100%|██████████| 9/9 [00:02<00:00,  4.03it/s]"
          ]
        },
        {
          "output_type": "stream",
          "name": "stdout",
          "text": [
            "                   all        260        357      0.896      0.826      0.878      0.523\n"
          ]
        },
        {
          "output_type": "stream",
          "name": "stderr",
          "text": [
            "\n"
          ]
        },
        {
          "output_type": "stream",
          "name": "stdout",
          "text": [
            "\n",
            "      Epoch    GPU_mem   box_loss   cls_loss   dfl_loss  Instances       Size\n"
          ]
        },
        {
          "output_type": "stream",
          "name": "stderr",
          "text": [
            "      15/20      2.69G     0.6576     0.4162      1.025         15        640: 100%|██████████| 85/85 [00:23<00:00,  3.61it/s]\n",
            "                 Class     Images  Instances      Box(P          R      mAP50  mAP50-95): 100%|██████████| 9/9 [00:02<00:00,  4.15it/s]"
          ]
        },
        {
          "output_type": "stream",
          "name": "stdout",
          "text": [
            "                   all        260        357      0.895      0.812      0.869      0.522\n"
          ]
        },
        {
          "output_type": "stream",
          "name": "stderr",
          "text": [
            "\n"
          ]
        },
        {
          "output_type": "stream",
          "name": "stdout",
          "text": [
            "\n",
            "      Epoch    GPU_mem   box_loss   cls_loss   dfl_loss  Instances       Size\n"
          ]
        },
        {
          "output_type": "stream",
          "name": "stderr",
          "text": [
            "      16/20      2.69G      0.643     0.4009       1.03         33        640: 100%|██████████| 85/85 [00:23<00:00,  3.63it/s]\n",
            "                 Class     Images  Instances      Box(P          R      mAP50  mAP50-95): 100%|██████████| 9/9 [00:02<00:00,  4.00it/s]"
          ]
        },
        {
          "output_type": "stream",
          "name": "stdout",
          "text": [
            "                   all        260        357      0.897      0.827      0.886      0.498\n"
          ]
        },
        {
          "output_type": "stream",
          "name": "stderr",
          "text": [
            "\n"
          ]
        },
        {
          "output_type": "stream",
          "name": "stdout",
          "text": [
            "\n",
            "      Epoch    GPU_mem   box_loss   cls_loss   dfl_loss  Instances       Size\n"
          ]
        },
        {
          "output_type": "stream",
          "name": "stderr",
          "text": [
            "      17/20      2.69G     0.6279     0.3792      1.018         19        640: 100%|██████████| 85/85 [00:23<00:00,  3.69it/s]\n",
            "                 Class     Images  Instances      Box(P          R      mAP50  mAP50-95): 100%|██████████| 9/9 [00:02<00:00,  3.96it/s]"
          ]
        },
        {
          "output_type": "stream",
          "name": "stdout",
          "text": [
            "                   all        260        357      0.863      0.813       0.88      0.527\n"
          ]
        },
        {
          "output_type": "stream",
          "name": "stderr",
          "text": [
            "\n"
          ]
        },
        {
          "output_type": "stream",
          "name": "stdout",
          "text": [
            "\n",
            "      Epoch    GPU_mem   box_loss   cls_loss   dfl_loss  Instances       Size\n"
          ]
        },
        {
          "output_type": "stream",
          "name": "stderr",
          "text": [
            "      18/20      2.69G     0.6252     0.3728      1.012         14        640: 100%|██████████| 85/85 [00:23<00:00,  3.60it/s]\n",
            "                 Class     Images  Instances      Box(P          R      mAP50  mAP50-95): 100%|██████████| 9/9 [00:02<00:00,  3.88it/s]"
          ]
        },
        {
          "output_type": "stream",
          "name": "stdout",
          "text": [
            "                   all        260        357       0.88      0.841      0.886      0.529\n"
          ]
        },
        {
          "output_type": "stream",
          "name": "stderr",
          "text": [
            "\n"
          ]
        },
        {
          "output_type": "stream",
          "name": "stdout",
          "text": [
            "\n",
            "      Epoch    GPU_mem   box_loss   cls_loss   dfl_loss  Instances       Size\n"
          ]
        },
        {
          "output_type": "stream",
          "name": "stderr",
          "text": [
            "      19/20      2.69G     0.5888     0.3488     0.9989         16        640: 100%|██████████| 85/85 [00:23<00:00,  3.68it/s]\n",
            "                 Class     Images  Instances      Box(P          R      mAP50  mAP50-95): 100%|██████████| 9/9 [00:02<00:00,  3.86it/s]"
          ]
        },
        {
          "output_type": "stream",
          "name": "stdout",
          "text": [
            "                   all        260        357      0.897      0.805      0.876      0.528\n"
          ]
        },
        {
          "output_type": "stream",
          "name": "stderr",
          "text": [
            "\n"
          ]
        },
        {
          "output_type": "stream",
          "name": "stdout",
          "text": [
            "\n",
            "      Epoch    GPU_mem   box_loss   cls_loss   dfl_loss  Instances       Size\n"
          ]
        },
        {
          "output_type": "stream",
          "name": "stderr",
          "text": [
            "      20/20      2.69G     0.5756     0.3444     0.9852         20        640: 100%|██████████| 85/85 [00:23<00:00,  3.69it/s]\n",
            "                 Class     Images  Instances      Box(P          R      mAP50  mAP50-95): 100%|██████████| 9/9 [00:02<00:00,  3.89it/s]"
          ]
        },
        {
          "output_type": "stream",
          "name": "stdout",
          "text": [
            "                   all        260        357       0.88      0.824      0.891      0.534\n"
          ]
        },
        {
          "output_type": "stream",
          "name": "stderr",
          "text": [
            "\n"
          ]
        },
        {
          "output_type": "stream",
          "name": "stdout",
          "text": [
            "\n",
            "20 epochs completed in 0.152 hours.\n",
            "Optimizer stripped from runs/detect/train2/weights/last.pt, 6.2MB\n",
            "Optimizer stripped from runs/detect/train2/weights/best.pt, 6.2MB\n",
            "\n",
            "Validating runs/detect/train2/weights/best.pt...\n",
            "Ultralytics 8.3.168 🚀 Python-3.11.13 torch-2.6.0+cu124 CUDA:0 (Tesla T4, 15095MiB)\n",
            "Model summary (fused): 72 layers, 3,005,843 parameters, 0 gradients, 8.1 GFLOPs\n"
          ]
        },
        {
          "output_type": "stream",
          "name": "stderr",
          "text": [
            "                 Class     Images  Instances      Box(P          R      mAP50  mAP50-95): 100%|██████████| 9/9 [00:04<00:00,  2.09it/s]\n"
          ]
        },
        {
          "output_type": "stream",
          "name": "stdout",
          "text": [
            "                   all        260        357       0.88      0.824      0.891      0.533\n",
            "Speed: 0.2ms preprocess, 2.6ms inference, 0.0ms loss, 5.5ms postprocess per image\n",
            "Results saved to \u001b[1mruns/detect/train2\u001b[0m\n"
          ]
        },
        {
          "output_type": "execute_result",
          "data": {
            "text/plain": [
              "ultralytics.utils.metrics.DetMetrics object with attributes:\n",
              "\n",
              "ap_class_index: array([0])\n",
              "box: ultralytics.utils.metrics.Metric object\n",
              "confusion_matrix: <ultralytics.utils.metrics.ConfusionMatrix object at 0x7edbbc263a90>\n",
              "curves: ['Precision-Recall(B)', 'F1-Confidence(B)', 'Precision-Confidence(B)', 'Recall-Confidence(B)']\n",
              "curves_results: [[array([          0,    0.001001,    0.002002,    0.003003,    0.004004,    0.005005,    0.006006,    0.007007,    0.008008,    0.009009,     0.01001,    0.011011,    0.012012,    0.013013,    0.014014,    0.015015,    0.016016,    0.017017,    0.018018,    0.019019,     0.02002,    0.021021,    0.022022,    0.023023,\n",
              "          0.024024,    0.025025,    0.026026,    0.027027,    0.028028,    0.029029,     0.03003,    0.031031,    0.032032,    0.033033,    0.034034,    0.035035,    0.036036,    0.037037,    0.038038,    0.039039,     0.04004,    0.041041,    0.042042,    0.043043,    0.044044,    0.045045,    0.046046,    0.047047,\n",
              "          0.048048,    0.049049,     0.05005,    0.051051,    0.052052,    0.053053,    0.054054,    0.055055,    0.056056,    0.057057,    0.058058,    0.059059,     0.06006,    0.061061,    0.062062,    0.063063,    0.064064,    0.065065,    0.066066,    0.067067,    0.068068,    0.069069,     0.07007,    0.071071,\n",
              "          0.072072,    0.073073,    0.074074,    0.075075,    0.076076,    0.077077,    0.078078,    0.079079,     0.08008,    0.081081,    0.082082,    0.083083,    0.084084,    0.085085,    0.086086,    0.087087,    0.088088,    0.089089,     0.09009,    0.091091,    0.092092,    0.093093,    0.094094,    0.095095,\n",
              "          0.096096,    0.097097,    0.098098,    0.099099,      0.1001,      0.1011,      0.1021,      0.1031,      0.1041,     0.10511,     0.10611,     0.10711,     0.10811,     0.10911,     0.11011,     0.11111,     0.11211,     0.11311,     0.11411,     0.11512,     0.11612,     0.11712,     0.11812,     0.11912,\n",
              "           0.12012,     0.12112,     0.12212,     0.12312,     0.12412,     0.12513,     0.12613,     0.12713,     0.12813,     0.12913,     0.13013,     0.13113,     0.13213,     0.13313,     0.13413,     0.13514,     0.13614,     0.13714,     0.13814,     0.13914,     0.14014,     0.14114,     0.14214,     0.14314,\n",
              "           0.14414,     0.14515,     0.14615,     0.14715,     0.14815,     0.14915,     0.15015,     0.15115,     0.15215,     0.15315,     0.15415,     0.15516,     0.15616,     0.15716,     0.15816,     0.15916,     0.16016,     0.16116,     0.16216,     0.16316,     0.16416,     0.16517,     0.16617,     0.16717,\n",
              "           0.16817,     0.16917,     0.17017,     0.17117,     0.17217,     0.17317,     0.17417,     0.17518,     0.17618,     0.17718,     0.17818,     0.17918,     0.18018,     0.18118,     0.18218,     0.18318,     0.18418,     0.18519,     0.18619,     0.18719,     0.18819,     0.18919,     0.19019,     0.19119,\n",
              "           0.19219,     0.19319,     0.19419,      0.1952,      0.1962,      0.1972,      0.1982,      0.1992,      0.2002,      0.2012,      0.2022,      0.2032,      0.2042,     0.20521,     0.20621,     0.20721,     0.20821,     0.20921,     0.21021,     0.21121,     0.21221,     0.21321,     0.21421,     0.21522,\n",
              "           0.21622,     0.21722,     0.21822,     0.21922,     0.22022,     0.22122,     0.22222,     0.22322,     0.22422,     0.22523,     0.22623,     0.22723,     0.22823,     0.22923,     0.23023,     0.23123,     0.23223,     0.23323,     0.23423,     0.23524,     0.23624,     0.23724,     0.23824,     0.23924,\n",
              "           0.24024,     0.24124,     0.24224,     0.24324,     0.24424,     0.24525,     0.24625,     0.24725,     0.24825,     0.24925,     0.25025,     0.25125,     0.25225,     0.25325,     0.25425,     0.25526,     0.25626,     0.25726,     0.25826,     0.25926,     0.26026,     0.26126,     0.26226,     0.26326,\n",
              "           0.26426,     0.26527,     0.26627,     0.26727,     0.26827,     0.26927,     0.27027,     0.27127,     0.27227,     0.27327,     0.27427,     0.27528,     0.27628,     0.27728,     0.27828,     0.27928,     0.28028,     0.28128,     0.28228,     0.28328,     0.28428,     0.28529,     0.28629,     0.28729,\n",
              "           0.28829,     0.28929,     0.29029,     0.29129,     0.29229,     0.29329,     0.29429,      0.2953,      0.2963,      0.2973,      0.2983,      0.2993,      0.3003,      0.3013,      0.3023,      0.3033,      0.3043,     0.30531,     0.30631,     0.30731,     0.30831,     0.30931,     0.31031,     0.31131,\n",
              "           0.31231,     0.31331,     0.31431,     0.31532,     0.31632,     0.31732,     0.31832,     0.31932,     0.32032,     0.32132,     0.32232,     0.32332,     0.32432,     0.32533,     0.32633,     0.32733,     0.32833,     0.32933,     0.33033,     0.33133,     0.33233,     0.33333,     0.33433,     0.33534,\n",
              "           0.33634,     0.33734,     0.33834,     0.33934,     0.34034,     0.34134,     0.34234,     0.34334,     0.34434,     0.34535,     0.34635,     0.34735,     0.34835,     0.34935,     0.35035,     0.35135,     0.35235,     0.35335,     0.35435,     0.35536,     0.35636,     0.35736,     0.35836,     0.35936,\n",
              "           0.36036,     0.36136,     0.36236,     0.36336,     0.36436,     0.36537,     0.36637,     0.36737,     0.36837,     0.36937,     0.37037,     0.37137,     0.37237,     0.37337,     0.37437,     0.37538,     0.37638,     0.37738,     0.37838,     0.37938,     0.38038,     0.38138,     0.38238,     0.38338,\n",
              "           0.38438,     0.38539,     0.38639,     0.38739,     0.38839,     0.38939,     0.39039,     0.39139,     0.39239,     0.39339,     0.39439,      0.3954,      0.3964,      0.3974,      0.3984,      0.3994,      0.4004,      0.4014,      0.4024,      0.4034,      0.4044,     0.40541,     0.40641,     0.40741,\n",
              "           0.40841,     0.40941,     0.41041,     0.41141,     0.41241,     0.41341,     0.41441,     0.41542,     0.41642,     0.41742,     0.41842,     0.41942,     0.42042,     0.42142,     0.42242,     0.42342,     0.42442,     0.42543,     0.42643,     0.42743,     0.42843,     0.42943,     0.43043,     0.43143,\n",
              "           0.43243,     0.43343,     0.43443,     0.43544,     0.43644,     0.43744,     0.43844,     0.43944,     0.44044,     0.44144,     0.44244,     0.44344,     0.44444,     0.44545,     0.44645,     0.44745,     0.44845,     0.44945,     0.45045,     0.45145,     0.45245,     0.45345,     0.45445,     0.45546,\n",
              "           0.45646,     0.45746,     0.45846,     0.45946,     0.46046,     0.46146,     0.46246,     0.46346,     0.46446,     0.46547,     0.46647,     0.46747,     0.46847,     0.46947,     0.47047,     0.47147,     0.47247,     0.47347,     0.47447,     0.47548,     0.47648,     0.47748,     0.47848,     0.47948,\n",
              "           0.48048,     0.48148,     0.48248,     0.48348,     0.48448,     0.48549,     0.48649,     0.48749,     0.48849,     0.48949,     0.49049,     0.49149,     0.49249,     0.49349,     0.49449,      0.4955,      0.4965,      0.4975,      0.4985,      0.4995,      0.5005,      0.5015,      0.5025,      0.5035,\n",
              "            0.5045,     0.50551,     0.50651,     0.50751,     0.50851,     0.50951,     0.51051,     0.51151,     0.51251,     0.51351,     0.51451,     0.51552,     0.51652,     0.51752,     0.51852,     0.51952,     0.52052,     0.52152,     0.52252,     0.52352,     0.52452,     0.52553,     0.52653,     0.52753,\n",
              "           0.52853,     0.52953,     0.53053,     0.53153,     0.53253,     0.53353,     0.53453,     0.53554,     0.53654,     0.53754,     0.53854,     0.53954,     0.54054,     0.54154,     0.54254,     0.54354,     0.54454,     0.54555,     0.54655,     0.54755,     0.54855,     0.54955,     0.55055,     0.55155,\n",
              "           0.55255,     0.55355,     0.55455,     0.55556,     0.55656,     0.55756,     0.55856,     0.55956,     0.56056,     0.56156,     0.56256,     0.56356,     0.56456,     0.56557,     0.56657,     0.56757,     0.56857,     0.56957,     0.57057,     0.57157,     0.57257,     0.57357,     0.57457,     0.57558,\n",
              "           0.57658,     0.57758,     0.57858,     0.57958,     0.58058,     0.58158,     0.58258,     0.58358,     0.58458,     0.58559,     0.58659,     0.58759,     0.58859,     0.58959,     0.59059,     0.59159,     0.59259,     0.59359,     0.59459,      0.5956,      0.5966,      0.5976,      0.5986,      0.5996,\n",
              "            0.6006,      0.6016,      0.6026,      0.6036,      0.6046,     0.60561,     0.60661,     0.60761,     0.60861,     0.60961,     0.61061,     0.61161,     0.61261,     0.61361,     0.61461,     0.61562,     0.61662,     0.61762,     0.61862,     0.61962,     0.62062,     0.62162,     0.62262,     0.62362,\n",
              "           0.62462,     0.62563,     0.62663,     0.62763,     0.62863,     0.62963,     0.63063,     0.63163,     0.63263,     0.63363,     0.63463,     0.63564,     0.63664,     0.63764,     0.63864,     0.63964,     0.64064,     0.64164,     0.64264,     0.64364,     0.64464,     0.64565,     0.64665,     0.64765,\n",
              "           0.64865,     0.64965,     0.65065,     0.65165,     0.65265,     0.65365,     0.65465,     0.65566,     0.65666,     0.65766,     0.65866,     0.65966,     0.66066,     0.66166,     0.66266,     0.66366,     0.66466,     0.66567,     0.66667,     0.66767,     0.66867,     0.66967,     0.67067,     0.67167,\n",
              "           0.67267,     0.67367,     0.67467,     0.67568,     0.67668,     0.67768,     0.67868,     0.67968,     0.68068,     0.68168,     0.68268,     0.68368,     0.68468,     0.68569,     0.68669,     0.68769,     0.68869,     0.68969,     0.69069,     0.69169,     0.69269,     0.69369,     0.69469,      0.6957,\n",
              "            0.6967,      0.6977,      0.6987,      0.6997,      0.7007,      0.7017,      0.7027,      0.7037,      0.7047,     0.70571,     0.70671,     0.70771,     0.70871,     0.70971,     0.71071,     0.71171,     0.71271,     0.71371,     0.71471,     0.71572,     0.71672,     0.71772,     0.71872,     0.71972,\n",
              "           0.72072,     0.72172,     0.72272,     0.72372,     0.72472,     0.72573,     0.72673,     0.72773,     0.72873,     0.72973,     0.73073,     0.73173,     0.73273,     0.73373,     0.73473,     0.73574,     0.73674,     0.73774,     0.73874,     0.73974,     0.74074,     0.74174,     0.74274,     0.74374,\n",
              "           0.74474,     0.74575,     0.74675,     0.74775,     0.74875,     0.74975,     0.75075,     0.75175,     0.75275,     0.75375,     0.75475,     0.75576,     0.75676,     0.75776,     0.75876,     0.75976,     0.76076,     0.76176,     0.76276,     0.76376,     0.76476,     0.76577,     0.76677,     0.76777,\n",
              "           0.76877,     0.76977,     0.77077,     0.77177,     0.77277,     0.77377,     0.77477,     0.77578,     0.77678,     0.77778,     0.77878,     0.77978,     0.78078,     0.78178,     0.78278,     0.78378,     0.78478,     0.78579,     0.78679,     0.78779,     0.78879,     0.78979,     0.79079,     0.79179,\n",
              "           0.79279,     0.79379,     0.79479,      0.7958,      0.7968,      0.7978,      0.7988,      0.7998,      0.8008,      0.8018,      0.8028,      0.8038,      0.8048,     0.80581,     0.80681,     0.80781,     0.80881,     0.80981,     0.81081,     0.81181,     0.81281,     0.81381,     0.81481,     0.81582,\n",
              "           0.81682,     0.81782,     0.81882,     0.81982,     0.82082,     0.82182,     0.82282,     0.82382,     0.82482,     0.82583,     0.82683,     0.82783,     0.82883,     0.82983,     0.83083,     0.83183,     0.83283,     0.83383,     0.83483,     0.83584,     0.83684,     0.83784,     0.83884,     0.83984,\n",
              "           0.84084,     0.84184,     0.84284,     0.84384,     0.84484,     0.84585,     0.84685,     0.84785,     0.84885,     0.84985,     0.85085,     0.85185,     0.85285,     0.85385,     0.85485,     0.85586,     0.85686,     0.85786,     0.85886,     0.85986,     0.86086,     0.86186,     0.86286,     0.86386,\n",
              "           0.86486,     0.86587,     0.86687,     0.86787,     0.86887,     0.86987,     0.87087,     0.87187,     0.87287,     0.87387,     0.87487,     0.87588,     0.87688,     0.87788,     0.87888,     0.87988,     0.88088,     0.88188,     0.88288,     0.88388,     0.88488,     0.88589,     0.88689,     0.88789,\n",
              "           0.88889,     0.88989,     0.89089,     0.89189,     0.89289,     0.89389,     0.89489,      0.8959,      0.8969,      0.8979,      0.8989,      0.8999,      0.9009,      0.9019,      0.9029,      0.9039,      0.9049,     0.90591,     0.90691,     0.90791,     0.90891,     0.90991,     0.91091,     0.91191,\n",
              "           0.91291,     0.91391,     0.91491,     0.91592,     0.91692,     0.91792,     0.91892,     0.91992,     0.92092,     0.92192,     0.92292,     0.92392,     0.92492,     0.92593,     0.92693,     0.92793,     0.92893,     0.92993,     0.93093,     0.93193,     0.93293,     0.93393,     0.93493,     0.93594,\n",
              "           0.93694,     0.93794,     0.93894,     0.93994,     0.94094,     0.94194,     0.94294,     0.94394,     0.94494,     0.94595,     0.94695,     0.94795,     0.94895,     0.94995,     0.95095,     0.95195,     0.95295,     0.95395,     0.95495,     0.95596,     0.95696,     0.95796,     0.95896,     0.95996,\n",
              "           0.96096,     0.96196,     0.96296,     0.96396,     0.96496,     0.96597,     0.96697,     0.96797,     0.96897,     0.96997,     0.97097,     0.97197,     0.97297,     0.97397,     0.97497,     0.97598,     0.97698,     0.97798,     0.97898,     0.97998,     0.98098,     0.98198,     0.98298,     0.98398,\n",
              "           0.98498,     0.98599,     0.98699,     0.98799,     0.98899,     0.98999,     0.99099,     0.99199,     0.99299,     0.99399,     0.99499,       0.996,       0.997,       0.998,       0.999,           1]), array([[          1,           1,           1,           1,           1,           1,           1,           1,           1,           1,           1,           1,           1,           1,           1,           1,           1,           1,           1,           1,           1,           1,           1,\n",
              "                  1,           1,           1,           1,           1,           1,           1,           1,           1,           1,           1,           1,           1,           1,           1,           1,           1,           1,           1,           1,           1,           1,           1,\n",
              "                  1,           1,           1,           1,           1,           1,           1,           1,           1,           1,           1,           1,           1,           1,           1,           1,           1,           1,           1,           1,           1,           1,           1,\n",
              "                  1,           1,           1,           1,           1,           1,           1,           1,           1,           1,           1,           1,           1,           1,           1,           1,           1,           1,           1,           1,           1,           1,           1,\n",
              "                  1,           1,           1,           1,           1,           1,           1,           1,           1,           1,           1,           1,           1,           1,           1,           1,           1,           1,           1,           1,           1,           1,           1,\n",
              "                  1,           1,           1,           1,           1,           1,           1,           1,           1,           1,           1,     0.98864,     0.98864,     0.98864,     0.98864,     0.98864,     0.98864,     0.98864,     0.98864,     0.98864,     0.98864,     0.98864,     0.98864,\n",
              "            0.98864,     0.98864,     0.98864,     0.98864,     0.98864,     0.98864,     0.98864,     0.98864,     0.98864,     0.98864,     0.98864,     0.98864,     0.98864,     0.98864,     0.98864,     0.98864,     0.98864,     0.98864,     0.98864,     0.98864,     0.98864,     0.98864,     0.98864,\n",
              "            0.98864,     0.98864,     0.98864,     0.98864,     0.98864,     0.98864,     0.98864,     0.98864,     0.98864,     0.98864,     0.98864,     0.98864,     0.98864,     0.98864,     0.98864,     0.98864,     0.98864,     0.98864,     0.98864,     0.98864,     0.98864,     0.98864,     0.98864,\n",
              "            0.98864,     0.98864,     0.98864,     0.98864,     0.98864,     0.98864,     0.98864,     0.98864,     0.98864,     0.98864,     0.98864,     0.98864,     0.98864,     0.98864,     0.98864,     0.98864,     0.98864,     0.98864,     0.98864,     0.98864,     0.98864,     0.98864,     0.98864,\n",
              "            0.98864,     0.98864,     0.98864,     0.98864,     0.98864,     0.98864,     0.98864,     0.98864,     0.98864,     0.98864,     0.98864,     0.98864,     0.98864,     0.98864,     0.98864,     0.98864,     0.98864,     0.98864,     0.98864,     0.98864,     0.98864,     0.98864,     0.98864,\n",
              "            0.98864,     0.98864,     0.98864,     0.98864,     0.98864,     0.98864,     0.98864,     0.98864,     0.98864,     0.98864,     0.98864,     0.98864,     0.98864,     0.98864,     0.98561,     0.98561,     0.98561,     0.98561,     0.98561,     0.98561,     0.98561,     0.98561,     0.98561,\n",
              "            0.98561,     0.98561,     0.98561,     0.98561,     0.98561,     0.98561,     0.98561,     0.98561,     0.98561,     0.98561,     0.98561,     0.98561,     0.98561,     0.98561,     0.98561,     0.98561,     0.98561,     0.98561,     0.98561,     0.98561,     0.98561,     0.98561,     0.98561,\n",
              "            0.98561,     0.98561,     0.98561,     0.98561,     0.98561,     0.98561,     0.98561,     0.98561,     0.98561,     0.98561,     0.98561,     0.98561,     0.98561,     0.98561,     0.98561,     0.98561,     0.98561,     0.98561,     0.98561,     0.98561,     0.98561,     0.98561,     0.98561,\n",
              "            0.98561,     0.98561,     0.98561,     0.98561,     0.98561,     0.98561,     0.98561,     0.98561,     0.98561,     0.98561,     0.98561,     0.98561,     0.98561,     0.98561,     0.98561,     0.98561,     0.98561,     0.98561,     0.98561,     0.98561,     0.98561,     0.98561,     0.98561,\n",
              "            0.98561,     0.98561,     0.98561,     0.98561,     0.98561,     0.98561,     0.98561,     0.98561,     0.98561,     0.98561,     0.98561,     0.98561,     0.98561,     0.98561,     0.98561,     0.98561,     0.98561,     0.98561,     0.98561,     0.98561,     0.98561,     0.98561,     0.98561,\n",
              "            0.98561,     0.98561,     0.98561,     0.98561,     0.98561,     0.98561,     0.98561,     0.98561,     0.98561,     0.98561,     0.98561,     0.98561,     0.98561,     0.98561,     0.98561,     0.98561,     0.98561,     0.98561,     0.98561,     0.98561,     0.98561,     0.98561,     0.98561,\n",
              "            0.98561,     0.98561,     0.98561,     0.98561,     0.98561,     0.98561,     0.98561,     0.98561,     0.98561,     0.98561,     0.98561,     0.98561,     0.98561,     0.98561,     0.98561,     0.98561,     0.98065,     0.98065,     0.98065,     0.98065,     0.98065,     0.98065,     0.98065,\n",
              "            0.98065,     0.98065,     0.98065,     0.98065,     0.98065,     0.98065,     0.98065,     0.98065,     0.98065,     0.98065,     0.98065,     0.98065,     0.98065,     0.98065,     0.98065,     0.98065,     0.98065,     0.98065,     0.98065,     0.98065,     0.98065,     0.98065,     0.98065,\n",
              "            0.98065,     0.98065,     0.98065,     0.98065,     0.98065,     0.98065,     0.98065,     0.98065,     0.98065,     0.98065,     0.98065,     0.98065,     0.97576,     0.97576,     0.97576,     0.97576,     0.97576,     0.97576,     0.97576,     0.97576,     0.97576,     0.97576,     0.97576,\n",
              "            0.97576,     0.97576,     0.97576,     0.97576,     0.97576,     0.97576,     0.97576,     0.97576,     0.97576,     0.97576,     0.97576,     0.97576,     0.97576,     0.97576,     0.97354,     0.97354,     0.97354,     0.97354,     0.97354,     0.97354,     0.97354,     0.97354,     0.97354,\n",
              "            0.97354,     0.97354,     0.97354,     0.97354,     0.97354,     0.97354,     0.97354,     0.97354,     0.97354,     0.97354,     0.97354,     0.97354,     0.97354,     0.97354,     0.97354,     0.97354,     0.97354,     0.97354,     0.97354,     0.97354,     0.97354,     0.97354,     0.97354,\n",
              "            0.97354,     0.97354,     0.97354,     0.97354,     0.97354,     0.97354,     0.97354,     0.97354,     0.97354,     0.97354,     0.97354,     0.97354,     0.97354,     0.97354,     0.97354,     0.97354,     0.97354,     0.97354,     0.97354,     0.97354,     0.97354,     0.97354,     0.97354,\n",
              "            0.97354,     0.97354,     0.97354,     0.97354,     0.97354,     0.97354,     0.97354,     0.97354,     0.97354,     0.96891,     0.96891,     0.96891,     0.96891,     0.96891,     0.96891,     0.96891,     0.96891,     0.96891,     0.96569,     0.96569,     0.96569,     0.96569,     0.96569,\n",
              "            0.96569,     0.96569,     0.96569,     0.96569,     0.96569,     0.96569,     0.96569,     0.96569,     0.96569,     0.96569,     0.96569,     0.96569,     0.96569,     0.96569,     0.96569,     0.96569,     0.96569,     0.96569,     0.96569,     0.96569,     0.96569,     0.96569,     0.96569,\n",
              "             0.9619,      0.9619,      0.9619,      0.9619,      0.9619,      0.9619,      0.9619,      0.9619,      0.9619,      0.9619,      0.9619,      0.9619,      0.9619,      0.9619,     0.96121,     0.96121,     0.96121,     0.96121,     0.96121,     0.96121,     0.96121,     0.96121,     0.96121,\n",
              "            0.96121,     0.96121,     0.96121,     0.96121,     0.96121,     0.96121,     0.96121,     0.96121,     0.96121,     0.96121,     0.96121,     0.96121,     0.96121,     0.96121,     0.96121,     0.96121,     0.96121,     0.96121,     0.96121,     0.96121,     0.96121,     0.96121,     0.96121,\n",
              "            0.96121,     0.96121,     0.96121,     0.96121,     0.96121,     0.96121,     0.96121,     0.96121,     0.96121,     0.96121,     0.96121,     0.96121,     0.96121,     0.96121,     0.96121,     0.96121,     0.96121,     0.96121,     0.96121,     0.96121,     0.96121,     0.96121,     0.96121,\n",
              "            0.96121,     0.96121,     0.96121,     0.96121,     0.95885,     0.95885,     0.95885,     0.95885,     0.95885,     0.95885,     0.95885,     0.95885,     0.95885,     0.95885,     0.95885,     0.95885,     0.95885,     0.95885,     0.95885,     0.95885,     0.95885,     0.95885,     0.95885,\n",
              "            0.95885,     0.95885,     0.95885,     0.95885,     0.95885,     0.95885,     0.95885,     0.95885,     0.95885,     0.95122,     0.95122,     0.94853,     0.94853,     0.94853,     0.94853,     0.94853,     0.94853,     0.94853,     0.94853,     0.94853,     0.94853,     0.94853,     0.94853,\n",
              "            0.94853,     0.94853,     0.94853,     0.94853,     0.94853,     0.94853,     0.94853,     0.94853,     0.94853,     0.94853,     0.94853,     0.94853,     0.94853,     0.94853,     0.94853,     0.94853,     0.94853,     0.94853,     0.94853,     0.94853,     0.94853,     0.94853,     0.94853,\n",
              "            0.94853,     0.94853,     0.94853,     0.94853,     0.94853,     0.94853,     0.94853,     0.94853,     0.94853,     0.94853,     0.94853,     0.94853,     0.94853,     0.94853,     0.94853,     0.94853,     0.94853,     0.94853,     0.94853,     0.94853,     0.94853,     0.94853,     0.94853,\n",
              "            0.94853,     0.94853,     0.94853,     0.94853,     0.94853,     0.94853,     0.94853,     0.94853,     0.94853,     0.94624,     0.94624,     0.94624,     0.94624,     0.94624,     0.94624,     0.94624,     0.94624,     0.94624,     0.94624,     0.94624,     0.94624,     0.94624,     0.94624,\n",
              "            0.94624,     0.94624,     0.94624,     0.94326,     0.94326,     0.94326,     0.94326,     0.94326,     0.94326,     0.94035,     0.94035,     0.94035,     0.94035,     0.94035,     0.93728,     0.93728,     0.93728,     0.93103,     0.93103,     0.93103,     0.92929,     0.92929,     0.92929,\n",
              "            0.92929,     0.92929,     0.92929,     0.92929,     0.92929,     0.92929,     0.92929,     0.92929,     0.92929,     0.92929,     0.92929,     0.92929,     0.92929,     0.92929,     0.92027,     0.92027,     0.92027,      0.9183,      0.9183,      0.9183,      0.9183,      0.9183,      0.9183,\n",
              "             0.9183,      0.9183,      0.9183,      0.9183,      0.9183,     0.91558,     0.91558,     0.91558,     0.90764,     0.90764,     0.90764,     0.90764,     0.90764,     0.90764,     0.90764,     0.90764,     0.90506,     0.90506,     0.90506,     0.90282,     0.90282,     0.90282,     0.90282,\n",
              "            0.90282,     0.90031,     0.90031,     0.90031,     0.89297,     0.89297,     0.89297,     0.89297,     0.89297,     0.89297,     0.89297,     0.89297,     0.89297,     0.88288,     0.88288,     0.88288,     0.88288,     0.88288,     0.88095,     0.88095,     0.88095,     0.88095,     0.88095,\n",
              "            0.88095,     0.87611,     0.87611,     0.87611,     0.86127,     0.86127,     0.85714,     0.85714,     0.85714,     0.85714,     0.85714,     0.85714,     0.85269,     0.85269,     0.85269,     0.84916,     0.84916,     0.84916,     0.84916,     0.84916,     0.84916,     0.84916,     0.84916,\n",
              "            0.84573,     0.84573,     0.84573,     0.84573,     0.84573,     0.84573,     0.84573,     0.84573,     0.84573,     0.84384,     0.84384,     0.84196,     0.84196,     0.84196,     0.83558,     0.83558,     0.83558,       0.832,       0.832,       0.832,       0.832,       0.832,       0.832,\n",
              "            0.78055,     0.78055,     0.77723,     0.77723,     0.77723,     0.76886,     0.76886,     0.76886,     0.76886,     0.76886,     0.76886,     0.74764,     0.74764,     0.74764,     0.73953,     0.73953,     0.69803,     0.69803,     0.69803,     0.68522,     0.68522,     0.68522,     0.65914,\n",
              "            0.65914,     0.65914,     0.61568,     0.61568,     0.61568,     0.61059,     0.61059,     0.60674,     0.60674,     0.60674,     0.57093,     0.57093,     0.57093,     0.57093,     0.57093,     0.57093,     0.55236,     0.55236,     0.55236,     0.55034,     0.55034,     0.54833,     0.54833,\n",
              "            0.54833,     0.49254,     0.49254,     0.49254,     0.47695,     0.47695,     0.47695,      0.4409,      0.4409,      0.4409,     0.43701,     0.43701,      0.4175,      0.4175,      0.4175,     0.39905,     0.39905,     0.39905,     0.39905,     0.39905,     0.39905,      0.3017,      0.3017,\n",
              "             0.3017,     0.21597,     0.21597,     0.20608,     0.20608,     0.20608,     0.19848,     0.19848,     0.19848,     0.18603,     0.18603,     0.18603,     0.17693,     0.17693,     0.17693,      0.1649,      0.1649,     0.15284,     0.14893,     0.14501,     0.14109,     0.13717,     0.13325,\n",
              "            0.12933,     0.12541,     0.12149,     0.11757,     0.11365,     0.10973,     0.10582,      0.1019,    0.097977,    0.094058,    0.090139,     0.08622,    0.082301,    0.078382,    0.074463,    0.070544,    0.066625,    0.062705,    0.058786,    0.054867,    0.050948,    0.047029,     0.04311,\n",
              "           0.039191,    0.035272,    0.031353,    0.027434,    0.023515,    0.019595,    0.015676,    0.011757,   0.0078382,   0.0039191,           0]]), 'Recall', 'Precision'], [array([          0,    0.001001,    0.002002,    0.003003,    0.004004,    0.005005,    0.006006,    0.007007,    0.008008,    0.009009,     0.01001,    0.011011,    0.012012,    0.013013,    0.014014,    0.015015,    0.016016,    0.017017,    0.018018,    0.019019,     0.02002,    0.021021,    0.022022,    0.023023,\n",
              "          0.024024,    0.025025,    0.026026,    0.027027,    0.028028,    0.029029,     0.03003,    0.031031,    0.032032,    0.033033,    0.034034,    0.035035,    0.036036,    0.037037,    0.038038,    0.039039,     0.04004,    0.041041,    0.042042,    0.043043,    0.044044,    0.045045,    0.046046,    0.047047,\n",
              "          0.048048,    0.049049,     0.05005,    0.051051,    0.052052,    0.053053,    0.054054,    0.055055,    0.056056,    0.057057,    0.058058,    0.059059,     0.06006,    0.061061,    0.062062,    0.063063,    0.064064,    0.065065,    0.066066,    0.067067,    0.068068,    0.069069,     0.07007,    0.071071,\n",
              "          0.072072,    0.073073,    0.074074,    0.075075,    0.076076,    0.077077,    0.078078,    0.079079,     0.08008,    0.081081,    0.082082,    0.083083,    0.084084,    0.085085,    0.086086,    0.087087,    0.088088,    0.089089,     0.09009,    0.091091,    0.092092,    0.093093,    0.094094,    0.095095,\n",
              "          0.096096,    0.097097,    0.098098,    0.099099,      0.1001,      0.1011,      0.1021,      0.1031,      0.1041,     0.10511,     0.10611,     0.10711,     0.10811,     0.10911,     0.11011,     0.11111,     0.11211,     0.11311,     0.11411,     0.11512,     0.11612,     0.11712,     0.11812,     0.11912,\n",
              "           0.12012,     0.12112,     0.12212,     0.12312,     0.12412,     0.12513,     0.12613,     0.12713,     0.12813,     0.12913,     0.13013,     0.13113,     0.13213,     0.13313,     0.13413,     0.13514,     0.13614,     0.13714,     0.13814,     0.13914,     0.14014,     0.14114,     0.14214,     0.14314,\n",
              "           0.14414,     0.14515,     0.14615,     0.14715,     0.14815,     0.14915,     0.15015,     0.15115,     0.15215,     0.15315,     0.15415,     0.15516,     0.15616,     0.15716,     0.15816,     0.15916,     0.16016,     0.16116,     0.16216,     0.16316,     0.16416,     0.16517,     0.16617,     0.16717,\n",
              "           0.16817,     0.16917,     0.17017,     0.17117,     0.17217,     0.17317,     0.17417,     0.17518,     0.17618,     0.17718,     0.17818,     0.17918,     0.18018,     0.18118,     0.18218,     0.18318,     0.18418,     0.18519,     0.18619,     0.18719,     0.18819,     0.18919,     0.19019,     0.19119,\n",
              "           0.19219,     0.19319,     0.19419,      0.1952,      0.1962,      0.1972,      0.1982,      0.1992,      0.2002,      0.2012,      0.2022,      0.2032,      0.2042,     0.20521,     0.20621,     0.20721,     0.20821,     0.20921,     0.21021,     0.21121,     0.21221,     0.21321,     0.21421,     0.21522,\n",
              "           0.21622,     0.21722,     0.21822,     0.21922,     0.22022,     0.22122,     0.22222,     0.22322,     0.22422,     0.22523,     0.22623,     0.22723,     0.22823,     0.22923,     0.23023,     0.23123,     0.23223,     0.23323,     0.23423,     0.23524,     0.23624,     0.23724,     0.23824,     0.23924,\n",
              "           0.24024,     0.24124,     0.24224,     0.24324,     0.24424,     0.24525,     0.24625,     0.24725,     0.24825,     0.24925,     0.25025,     0.25125,     0.25225,     0.25325,     0.25425,     0.25526,     0.25626,     0.25726,     0.25826,     0.25926,     0.26026,     0.26126,     0.26226,     0.26326,\n",
              "           0.26426,     0.26527,     0.26627,     0.26727,     0.26827,     0.26927,     0.27027,     0.27127,     0.27227,     0.27327,     0.27427,     0.27528,     0.27628,     0.27728,     0.27828,     0.27928,     0.28028,     0.28128,     0.28228,     0.28328,     0.28428,     0.28529,     0.28629,     0.28729,\n",
              "           0.28829,     0.28929,     0.29029,     0.29129,     0.29229,     0.29329,     0.29429,      0.2953,      0.2963,      0.2973,      0.2983,      0.2993,      0.3003,      0.3013,      0.3023,      0.3033,      0.3043,     0.30531,     0.30631,     0.30731,     0.30831,     0.30931,     0.31031,     0.31131,\n",
              "           0.31231,     0.31331,     0.31431,     0.31532,     0.31632,     0.31732,     0.31832,     0.31932,     0.32032,     0.32132,     0.32232,     0.32332,     0.32432,     0.32533,     0.32633,     0.32733,     0.32833,     0.32933,     0.33033,     0.33133,     0.33233,     0.33333,     0.33433,     0.33534,\n",
              "           0.33634,     0.33734,     0.33834,     0.33934,     0.34034,     0.34134,     0.34234,     0.34334,     0.34434,     0.34535,     0.34635,     0.34735,     0.34835,     0.34935,     0.35035,     0.35135,     0.35235,     0.35335,     0.35435,     0.35536,     0.35636,     0.35736,     0.35836,     0.35936,\n",
              "           0.36036,     0.36136,     0.36236,     0.36336,     0.36436,     0.36537,     0.36637,     0.36737,     0.36837,     0.36937,     0.37037,     0.37137,     0.37237,     0.37337,     0.37437,     0.37538,     0.37638,     0.37738,     0.37838,     0.37938,     0.38038,     0.38138,     0.38238,     0.38338,\n",
              "           0.38438,     0.38539,     0.38639,     0.38739,     0.38839,     0.38939,     0.39039,     0.39139,     0.39239,     0.39339,     0.39439,      0.3954,      0.3964,      0.3974,      0.3984,      0.3994,      0.4004,      0.4014,      0.4024,      0.4034,      0.4044,     0.40541,     0.40641,     0.40741,\n",
              "           0.40841,     0.40941,     0.41041,     0.41141,     0.41241,     0.41341,     0.41441,     0.41542,     0.41642,     0.41742,     0.41842,     0.41942,     0.42042,     0.42142,     0.42242,     0.42342,     0.42442,     0.42543,     0.42643,     0.42743,     0.42843,     0.42943,     0.43043,     0.43143,\n",
              "           0.43243,     0.43343,     0.43443,     0.43544,     0.43644,     0.43744,     0.43844,     0.43944,     0.44044,     0.44144,     0.44244,     0.44344,     0.44444,     0.44545,     0.44645,     0.44745,     0.44845,     0.44945,     0.45045,     0.45145,     0.45245,     0.45345,     0.45445,     0.45546,\n",
              "           0.45646,     0.45746,     0.45846,     0.45946,     0.46046,     0.46146,     0.46246,     0.46346,     0.46446,     0.46547,     0.46647,     0.46747,     0.46847,     0.46947,     0.47047,     0.47147,     0.47247,     0.47347,     0.47447,     0.47548,     0.47648,     0.47748,     0.47848,     0.47948,\n",
              "           0.48048,     0.48148,     0.48248,     0.48348,     0.48448,     0.48549,     0.48649,     0.48749,     0.48849,     0.48949,     0.49049,     0.49149,     0.49249,     0.49349,     0.49449,      0.4955,      0.4965,      0.4975,      0.4985,      0.4995,      0.5005,      0.5015,      0.5025,      0.5035,\n",
              "            0.5045,     0.50551,     0.50651,     0.50751,     0.50851,     0.50951,     0.51051,     0.51151,     0.51251,     0.51351,     0.51451,     0.51552,     0.51652,     0.51752,     0.51852,     0.51952,     0.52052,     0.52152,     0.52252,     0.52352,     0.52452,     0.52553,     0.52653,     0.52753,\n",
              "           0.52853,     0.52953,     0.53053,     0.53153,     0.53253,     0.53353,     0.53453,     0.53554,     0.53654,     0.53754,     0.53854,     0.53954,     0.54054,     0.54154,     0.54254,     0.54354,     0.54454,     0.54555,     0.54655,     0.54755,     0.54855,     0.54955,     0.55055,     0.55155,\n",
              "           0.55255,     0.55355,     0.55455,     0.55556,     0.55656,     0.55756,     0.55856,     0.55956,     0.56056,     0.56156,     0.56256,     0.56356,     0.56456,     0.56557,     0.56657,     0.56757,     0.56857,     0.56957,     0.57057,     0.57157,     0.57257,     0.57357,     0.57457,     0.57558,\n",
              "           0.57658,     0.57758,     0.57858,     0.57958,     0.58058,     0.58158,     0.58258,     0.58358,     0.58458,     0.58559,     0.58659,     0.58759,     0.58859,     0.58959,     0.59059,     0.59159,     0.59259,     0.59359,     0.59459,      0.5956,      0.5966,      0.5976,      0.5986,      0.5996,\n",
              "            0.6006,      0.6016,      0.6026,      0.6036,      0.6046,     0.60561,     0.60661,     0.60761,     0.60861,     0.60961,     0.61061,     0.61161,     0.61261,     0.61361,     0.61461,     0.61562,     0.61662,     0.61762,     0.61862,     0.61962,     0.62062,     0.62162,     0.62262,     0.62362,\n",
              "           0.62462,     0.62563,     0.62663,     0.62763,     0.62863,     0.62963,     0.63063,     0.63163,     0.63263,     0.63363,     0.63463,     0.63564,     0.63664,     0.63764,     0.63864,     0.63964,     0.64064,     0.64164,     0.64264,     0.64364,     0.64464,     0.64565,     0.64665,     0.64765,\n",
              "           0.64865,     0.64965,     0.65065,     0.65165,     0.65265,     0.65365,     0.65465,     0.65566,     0.65666,     0.65766,     0.65866,     0.65966,     0.66066,     0.66166,     0.66266,     0.66366,     0.66466,     0.66567,     0.66667,     0.66767,     0.66867,     0.66967,     0.67067,     0.67167,\n",
              "           0.67267,     0.67367,     0.67467,     0.67568,     0.67668,     0.67768,     0.67868,     0.67968,     0.68068,     0.68168,     0.68268,     0.68368,     0.68468,     0.68569,     0.68669,     0.68769,     0.68869,     0.68969,     0.69069,     0.69169,     0.69269,     0.69369,     0.69469,      0.6957,\n",
              "            0.6967,      0.6977,      0.6987,      0.6997,      0.7007,      0.7017,      0.7027,      0.7037,      0.7047,     0.70571,     0.70671,     0.70771,     0.70871,     0.70971,     0.71071,     0.71171,     0.71271,     0.71371,     0.71471,     0.71572,     0.71672,     0.71772,     0.71872,     0.71972,\n",
              "           0.72072,     0.72172,     0.72272,     0.72372,     0.72472,     0.72573,     0.72673,     0.72773,     0.72873,     0.72973,     0.73073,     0.73173,     0.73273,     0.73373,     0.73473,     0.73574,     0.73674,     0.73774,     0.73874,     0.73974,     0.74074,     0.74174,     0.74274,     0.74374,\n",
              "           0.74474,     0.74575,     0.74675,     0.74775,     0.74875,     0.74975,     0.75075,     0.75175,     0.75275,     0.75375,     0.75475,     0.75576,     0.75676,     0.75776,     0.75876,     0.75976,     0.76076,     0.76176,     0.76276,     0.76376,     0.76476,     0.76577,     0.76677,     0.76777,\n",
              "           0.76877,     0.76977,     0.77077,     0.77177,     0.77277,     0.77377,     0.77477,     0.77578,     0.77678,     0.77778,     0.77878,     0.77978,     0.78078,     0.78178,     0.78278,     0.78378,     0.78478,     0.78579,     0.78679,     0.78779,     0.78879,     0.78979,     0.79079,     0.79179,\n",
              "           0.79279,     0.79379,     0.79479,      0.7958,      0.7968,      0.7978,      0.7988,      0.7998,      0.8008,      0.8018,      0.8028,      0.8038,      0.8048,     0.80581,     0.80681,     0.80781,     0.80881,     0.80981,     0.81081,     0.81181,     0.81281,     0.81381,     0.81481,     0.81582,\n",
              "           0.81682,     0.81782,     0.81882,     0.81982,     0.82082,     0.82182,     0.82282,     0.82382,     0.82482,     0.82583,     0.82683,     0.82783,     0.82883,     0.82983,     0.83083,     0.83183,     0.83283,     0.83383,     0.83483,     0.83584,     0.83684,     0.83784,     0.83884,     0.83984,\n",
              "           0.84084,     0.84184,     0.84284,     0.84384,     0.84484,     0.84585,     0.84685,     0.84785,     0.84885,     0.84985,     0.85085,     0.85185,     0.85285,     0.85385,     0.85485,     0.85586,     0.85686,     0.85786,     0.85886,     0.85986,     0.86086,     0.86186,     0.86286,     0.86386,\n",
              "           0.86486,     0.86587,     0.86687,     0.86787,     0.86887,     0.86987,     0.87087,     0.87187,     0.87287,     0.87387,     0.87487,     0.87588,     0.87688,     0.87788,     0.87888,     0.87988,     0.88088,     0.88188,     0.88288,     0.88388,     0.88488,     0.88589,     0.88689,     0.88789,\n",
              "           0.88889,     0.88989,     0.89089,     0.89189,     0.89289,     0.89389,     0.89489,      0.8959,      0.8969,      0.8979,      0.8989,      0.8999,      0.9009,      0.9019,      0.9029,      0.9039,      0.9049,     0.90591,     0.90691,     0.90791,     0.90891,     0.90991,     0.91091,     0.91191,\n",
              "           0.91291,     0.91391,     0.91491,     0.91592,     0.91692,     0.91792,     0.91892,     0.91992,     0.92092,     0.92192,     0.92292,     0.92392,     0.92492,     0.92593,     0.92693,     0.92793,     0.92893,     0.92993,     0.93093,     0.93193,     0.93293,     0.93393,     0.93493,     0.93594,\n",
              "           0.93694,     0.93794,     0.93894,     0.93994,     0.94094,     0.94194,     0.94294,     0.94394,     0.94494,     0.94595,     0.94695,     0.94795,     0.94895,     0.94995,     0.95095,     0.95195,     0.95295,     0.95395,     0.95495,     0.95596,     0.95696,     0.95796,     0.95896,     0.95996,\n",
              "           0.96096,     0.96196,     0.96296,     0.96396,     0.96496,     0.96597,     0.96697,     0.96797,     0.96897,     0.96997,     0.97097,     0.97197,     0.97297,     0.97397,     0.97497,     0.97598,     0.97698,     0.97798,     0.97898,     0.97998,     0.98098,     0.98198,     0.98298,     0.98398,\n",
              "           0.98498,     0.98599,     0.98699,     0.98799,     0.98899,     0.98999,     0.99099,     0.99199,     0.99299,     0.99399,     0.99499,       0.996,       0.997,       0.998,       0.999,           1]), array([[    0.26476,     0.26476,     0.37864,     0.44811,     0.50239,       0.537,     0.56515,     0.58158,     0.59682,     0.60858,     0.62412,     0.63191,     0.64255,     0.65136,     0.66215,     0.67129,     0.67899,     0.68634,     0.68835,     0.68904,     0.69473,     0.70078,     0.70059,\n",
              "            0.70255,     0.70792,     0.71236,     0.71663,     0.72171,     0.72506,     0.72827,     0.72855,     0.72971,     0.73095,     0.73227,     0.73625,     0.74085,      0.7441,     0.74846,      0.7503,     0.75272,     0.75332,     0.75484,     0.76009,     0.75943,     0.76057,     0.76564,\n",
              "            0.76635,     0.76884,     0.77206,     0.77453,     0.77569,      0.7767,     0.77877,     0.78271,     0.78238,     0.78579,     0.78682,     0.78964,     0.79232,     0.79407,     0.79497,     0.79653,     0.79718,     0.79838,     0.80112,     0.80329,      0.8042,     0.80455,      0.8049,\n",
              "            0.80542,     0.80609,     0.80712,     0.80976,     0.81022,     0.81068,     0.81032,     0.81126,     0.81144,     0.81159,     0.81175,      0.8119,     0.81205,      0.8122,     0.81241,     0.81331,     0.81689,     0.81873,     0.81955,     0.82018,     0.82077,     0.82202,      0.8223,\n",
              "            0.82257,     0.82285,     0.82256,     0.82211,     0.82165,     0.82107,     0.82033,      0.8202,     0.82107,     0.82157,     0.82224,      0.8235,     0.82449,     0.82502,     0.82418,     0.82398,     0.82469,       0.825,     0.82526,     0.82552,     0.82578,      0.8244,     0.82516,\n",
              "            0.82671,     0.82731,     0.82767,     0.82782,     0.82797,     0.82813,     0.82828,     0.82843,     0.82859,     0.82903,     0.82983,     0.83001,     0.83019,     0.83038,     0.83056,     0.83074,     0.83091,     0.83105,     0.83119,     0.83133,     0.83147,     0.83161,     0.83175,\n",
              "            0.83189,     0.83209,     0.83248,     0.83288,     0.83359,     0.83473,     0.83552,      0.8359,     0.83629,     0.83665,     0.83701,     0.83736,     0.83793,     0.83906,     0.84008,     0.84046,     0.84083,     0.84116,     0.84147,     0.84178,     0.84209,     0.84245,     0.84281,\n",
              "            0.84317,     0.84443,      0.8446,     0.84476,     0.84493,     0.84509,     0.84526,     0.84542,     0.84661,     0.84695,     0.84723,      0.8475,     0.84778,     0.84793,     0.84806,     0.84819,     0.84832,     0.84844,     0.84857,      0.8487,     0.84883,     0.84896,      0.8493,\n",
              "            0.84969,     0.85009,     0.85137,     0.85165,     0.85193,     0.85221,     0.85084,     0.85047,     0.85011,     0.84974,     0.84937,     0.85066,      0.8514,     0.85205,     0.85355,     0.85303,     0.85251,     0.85202,     0.85263,     0.85315,     0.85273,     0.85231,     0.85189,\n",
              "            0.85217,     0.85253,     0.85218,     0.85183,     0.85147,     0.85097,     0.84978,     0.84922,     0.84878,     0.84834,     0.84819,     0.84924,     0.84963,     0.85002,      0.8501,     0.84859,     0.84777,      0.8471,       0.847,     0.84689,     0.84679,     0.84668,     0.84657,\n",
              "            0.84647,     0.84636,     0.84626,     0.84615,     0.84605,     0.84594,     0.84584,     0.84573,     0.84563,     0.84552,     0.84563,     0.84578,     0.84593,     0.84609,     0.84624,     0.84639,     0.84653,     0.84668,     0.84682,     0.84696,     0.84709,     0.84723,     0.84737,\n",
              "             0.8475,     0.84764,     0.84777,     0.84651,     0.84749,     0.84757,     0.84765,     0.84773,     0.84781,     0.84789,     0.84797,     0.84805,     0.84813,      0.8482,     0.84828,     0.84836,     0.84844,     0.84852,      0.8486,     0.84856,     0.84824,     0.84792,     0.84761,\n",
              "            0.84729,     0.84696,     0.84659,     0.84621,     0.84584,     0.84547,     0.84588,     0.84649,     0.84679,     0.84702,     0.84726,     0.84749,     0.84773,     0.84633,     0.84658,     0.84683,     0.84707,     0.84732,     0.84778,     0.84827,     0.84862,     0.84875,     0.84887,\n",
              "            0.84899,     0.84912,     0.84924,     0.84937,     0.84949,     0.84962,     0.84974,     0.85014,      0.8507,     0.85106,     0.85119,     0.85132,     0.85145,     0.85157,      0.8517,     0.85183,     0.85196,     0.85209,     0.85222,      0.8523,     0.85238,     0.85246,     0.85254,\n",
              "            0.85262,      0.8527,     0.85279,     0.85287,     0.85295,     0.85303,     0.85311,     0.85319,     0.85327,     0.85335,     0.85343,     0.85323,     0.85296,     0.85269,     0.85242,     0.85215,     0.85188,      0.8521,     0.85252,     0.85294,     0.85321,     0.85344,     0.85367,\n",
              "             0.8539,     0.85412,     0.85413,     0.85382,     0.85351,      0.8532,     0.85289,     0.85258,     0.85227,     0.85196,     0.85166,     0.85135,     0.85104,     0.85144,     0.85216,      0.8504,     0.85029,     0.85018,     0.85008,     0.84997,     0.84986,     0.84975,     0.84964,\n",
              "            0.84953,     0.84942,     0.84931,     0.84921,      0.8491,     0.84899,     0.84888,     0.84893,     0.84908,     0.84923,     0.84938,     0.84953,     0.84967,     0.84982,     0.84997,     0.85137,     0.85154,     0.85171,     0.85188,     0.85205,     0.85222,     0.85239,     0.85256,\n",
              "            0.85288,      0.8532,     0.85352,     0.85373,     0.85311,     0.85248,      0.8488,     0.84893,     0.84905,     0.84917,     0.84929,     0.84941,     0.84954,     0.84966,     0.84978,      0.8499,     0.85002,     0.85016,     0.85029,     0.85042,     0.85055,     0.85068,     0.85081,\n",
              "            0.85095,     0.85108,     0.85121,     0.85154,     0.85197,      0.8524,     0.85216,      0.8517,     0.85124,     0.85082,     0.85091,     0.85099,     0.85108,     0.85117,     0.85126,     0.85135,     0.85143,     0.85152,     0.85161,     0.85169,     0.85178,     0.85187,     0.85196,\n",
              "            0.85204,     0.85187,     0.85158,     0.85129,       0.851,     0.85071,     0.85042,     0.84964,     0.84876,     0.84873,      0.8488,     0.84888,     0.84895,     0.84902,     0.84909,     0.84917,     0.84924,     0.84931,     0.84939,     0.84946,     0.84953,      0.8496,     0.84968,\n",
              "            0.84975,     0.84982,     0.84989,     0.84978,     0.84953,     0.84928,     0.84903,     0.84878,     0.84853,     0.84828,     0.84918,     0.84937,     0.84924,      0.8491,     0.84897,     0.84883,      0.8487,     0.84856,     0.84843,     0.84829,     0.84816,     0.84802,     0.84789,\n",
              "              0.846,     0.84556,     0.84512,     0.84467,     0.84443,     0.84508,     0.84565,     0.84598,      0.8463,     0.84663,     0.84689,       0.847,     0.84712,     0.84724,     0.84736,     0.84748,      0.8476,     0.84772,     0.84784,     0.84795,     0.84807,     0.84785,     0.84741,\n",
              "            0.84697,     0.84652,     0.84657,     0.84683,     0.84709,     0.84735,     0.84761,      0.8462,     0.84575,     0.84556,     0.84536,     0.84516,     0.84496,     0.84476,     0.84456,     0.84436,     0.84417,     0.84404,     0.84391,     0.84378,     0.84366,     0.84353,      0.8434,\n",
              "            0.84327,     0.84314,     0.84301,     0.84289,     0.84276,     0.84263,      0.8425,     0.84232,     0.84206,     0.84181,     0.84155,     0.84129,     0.84103,     0.84078,     0.84086,     0.84118,     0.84151,     0.84184,     0.84186,     0.84172,     0.84159,     0.84145,     0.84132,\n",
              "            0.84119,     0.84105,     0.84092,     0.84079,     0.84065,     0.84052,     0.84038,     0.84025,     0.84051,     0.84117,     0.84219,     0.84294,     0.84327,      0.8436,     0.84393,     0.84373,     0.84328,     0.84282,     0.84237,     0.84207,     0.84181,     0.84155,     0.84129,\n",
              "            0.84103,     0.84077,     0.84051,     0.83992,     0.83931,     0.83869,     0.83747,     0.83642,      0.8355,     0.83505,     0.83493,      0.8348,     0.83467,     0.83455,     0.83442,     0.83429,     0.83417,     0.83404,     0.83391,     0.83378,     0.83366,     0.83353,      0.8334,\n",
              "            0.83393,     0.83457,     0.83448,     0.83438,     0.83428,     0.83419,     0.83409,     0.83399,     0.83389,      0.8338,      0.8337,      0.8336,      0.8335,     0.83341,     0.83331,     0.83321,     0.83312,     0.83302,     0.83292,     0.83282,     0.83323,     0.83367,     0.83411,\n",
              "            0.83432,     0.83452,     0.83472,     0.83493,     0.83513,     0.83534,     0.83518,     0.83484,      0.8345,     0.83416,     0.83383,     0.83367,     0.83394,     0.83421,     0.83447,     0.83474,     0.83457,     0.83383,     0.83308,     0.83154,     0.83184,     0.83214,     0.83243,\n",
              "            0.83249,     0.83238,     0.83227,     0.83217,     0.83206,     0.83195,     0.83184,     0.83174,     0.83163,     0.83152,     0.83142,     0.83131,      0.8312,     0.83109,     0.83099,     0.83088,     0.83077,      0.8305,     0.83008,     0.82966,     0.82925,     0.82894,     0.82932,\n",
              "             0.8297,     0.83008,      0.8298,     0.82926,     0.82872,     0.82796,     0.82669,     0.82632,     0.82611,      0.8259,     0.82569,     0.82548,     0.82526,     0.82505,     0.82484,     0.82463,     0.82437,     0.82412,     0.82387,     0.82361,     0.82336,      0.8231,     0.82285,\n",
              "            0.82238,     0.82183,     0.82128,     0.82074,     0.82019,     0.81964,     0.81909,     0.81935,     0.81969,     0.82002,     0.82032,     0.81844,     0.81767,     0.81689,      0.8163,     0.81581,     0.81533,     0.81484,     0.81431,     0.81375,      0.8132,      0.8127,     0.81234,\n",
              "            0.81199,     0.81164,     0.81128,     0.81093,     0.81069,     0.81046,     0.81023,        0.81,     0.80977,     0.80954,     0.80931,     0.80907,     0.80858,     0.80792,     0.80727,     0.80661,     0.80596,      0.8053,     0.80503,     0.80487,     0.80472,     0.80456,      0.8044,\n",
              "            0.80424,     0.80408,     0.80393,     0.80377,     0.80361,     0.80345,     0.80329,     0.80284,     0.80218,     0.80152,     0.80043,     0.79898,     0.79517,     0.79383,     0.79249,     0.79115,      0.7898,     0.78914,     0.78864,     0.78813,     0.78762,     0.78735,     0.78709,\n",
              "            0.78684,     0.78659,     0.78633,     0.78608,     0.78582,     0.78536,     0.78341,     0.78205,     0.78121,     0.78063,     0.78004,     0.77924,     0.77787,     0.77732,     0.77698,     0.77663,     0.77629,     0.77594,      0.7756,     0.77682,     0.77636,     0.77584,     0.77532,\n",
              "            0.77488,     0.77554,     0.77596,     0.77457,     0.77544,     0.77582,     0.77619,     0.77657,     0.77588,     0.77483,     0.76594,     0.76452,     0.75617,     0.75683,      0.7549,     0.75442,     0.75394,     0.75346,     0.75297,     0.75224,     0.75151,     0.74831,     0.74524,\n",
              "            0.74164,     0.73913,     0.73708,     0.73512,     0.73423,     0.73297,     0.72873,     0.72722,      0.7232,     0.72219,     0.72181,     0.72143,     0.72105,     0.72066,     0.72028,     0.71574,     0.71132,     0.70535,     0.70292,     0.70213,     0.70134,     0.70191,     0.70186,\n",
              "            0.70118,      0.7005,     0.69937,     0.69629,     0.69342,     0.69167,     0.68416,     0.68141,      0.6738,     0.67307,     0.67208,     0.67075,     0.66656,     0.66039,     0.65784,     0.65419,     0.65334,     0.65248,     0.65091,      0.6475,     0.64109,     0.63847,     0.63584,\n",
              "             0.6332,     0.62972,     0.62176,     0.61866,     0.61661,     0.61308,     0.60647,     0.60173,     0.59808,      0.5932,     0.58811,     0.57948,      0.5754,     0.57074,     0.56245,     0.55612,     0.55208,     0.55031,     0.53919,     0.53307,     0.52477,     0.52067,     0.51132,\n",
              "            0.50651,     0.50438,     0.49525,      0.4854,      0.4789,     0.46843,     0.46709,      0.4655,     0.46064,     0.45791,     0.45564,     0.45337,     0.44473,     0.43096,     0.41695,     0.40976,     0.39622,     0.39475,     0.39142,     0.38486,     0.37736,     0.37421,     0.37116,\n",
              "            0.36736,     0.35423,     0.34452,     0.33857,     0.33404,     0.33244,     0.32242,     0.31481,     0.31073,     0.30193,     0.29363,     0.27999,     0.26984,     0.26698,     0.25962,     0.25311,     0.25136,     0.24961,     0.24167,     0.23445,     0.23221,     0.22784,     0.22388,\n",
              "            0.21852,      0.2167,      0.2102,     0.20588,     0.20434,      0.2028,     0.20073,     0.19516,      0.1902,     0.18744,     0.18586,     0.18429,     0.18261,     0.18071,     0.17881,     0.17018,     0.15369,     0.15042,     0.14317,     0.13578,     0.12575,     0.11063,     0.10032,\n",
              "           0.082714,     0.06898,    0.053349,    0.051534,    0.049716,    0.047636,    0.045445,    0.035506,    0.021888,    0.020951,    0.020014,    0.019075,    0.018136,    0.017195,    0.015677,    0.013413,    0.011144,     0.01011,    0.009076,   0.0080408,   0.0070046,   0.0059672,           0,\n",
              "                  0,           0,           0,           0,           0,           0,           0,           0,           0,           0,           0,           0,           0,           0,           0,           0,           0,           0,           0,           0,           0,           0,           0,\n",
              "                  0,           0,           0,           0,           0,           0,           0,           0,           0,           0,           0]]), 'Confidence', 'F1'], [array([          0,    0.001001,    0.002002,    0.003003,    0.004004,    0.005005,    0.006006,    0.007007,    0.008008,    0.009009,     0.01001,    0.011011,    0.012012,    0.013013,    0.014014,    0.015015,    0.016016,    0.017017,    0.018018,    0.019019,     0.02002,    0.021021,    0.022022,    0.023023,\n",
              "          0.024024,    0.025025,    0.026026,    0.027027,    0.028028,    0.029029,     0.03003,    0.031031,    0.032032,    0.033033,    0.034034,    0.035035,    0.036036,    0.037037,    0.038038,    0.039039,     0.04004,    0.041041,    0.042042,    0.043043,    0.044044,    0.045045,    0.046046,    0.047047,\n",
              "          0.048048,    0.049049,     0.05005,    0.051051,    0.052052,    0.053053,    0.054054,    0.055055,    0.056056,    0.057057,    0.058058,    0.059059,     0.06006,    0.061061,    0.062062,    0.063063,    0.064064,    0.065065,    0.066066,    0.067067,    0.068068,    0.069069,     0.07007,    0.071071,\n",
              "          0.072072,    0.073073,    0.074074,    0.075075,    0.076076,    0.077077,    0.078078,    0.079079,     0.08008,    0.081081,    0.082082,    0.083083,    0.084084,    0.085085,    0.086086,    0.087087,    0.088088,    0.089089,     0.09009,    0.091091,    0.092092,    0.093093,    0.094094,    0.095095,\n",
              "          0.096096,    0.097097,    0.098098,    0.099099,      0.1001,      0.1011,      0.1021,      0.1031,      0.1041,     0.10511,     0.10611,     0.10711,     0.10811,     0.10911,     0.11011,     0.11111,     0.11211,     0.11311,     0.11411,     0.11512,     0.11612,     0.11712,     0.11812,     0.11912,\n",
              "           0.12012,     0.12112,     0.12212,     0.12312,     0.12412,     0.12513,     0.12613,     0.12713,     0.12813,     0.12913,     0.13013,     0.13113,     0.13213,     0.13313,     0.13413,     0.13514,     0.13614,     0.13714,     0.13814,     0.13914,     0.14014,     0.14114,     0.14214,     0.14314,\n",
              "           0.14414,     0.14515,     0.14615,     0.14715,     0.14815,     0.14915,     0.15015,     0.15115,     0.15215,     0.15315,     0.15415,     0.15516,     0.15616,     0.15716,     0.15816,     0.15916,     0.16016,     0.16116,     0.16216,     0.16316,     0.16416,     0.16517,     0.16617,     0.16717,\n",
              "           0.16817,     0.16917,     0.17017,     0.17117,     0.17217,     0.17317,     0.17417,     0.17518,     0.17618,     0.17718,     0.17818,     0.17918,     0.18018,     0.18118,     0.18218,     0.18318,     0.18418,     0.18519,     0.18619,     0.18719,     0.18819,     0.18919,     0.19019,     0.19119,\n",
              "           0.19219,     0.19319,     0.19419,      0.1952,      0.1962,      0.1972,      0.1982,      0.1992,      0.2002,      0.2012,      0.2022,      0.2032,      0.2042,     0.20521,     0.20621,     0.20721,     0.20821,     0.20921,     0.21021,     0.21121,     0.21221,     0.21321,     0.21421,     0.21522,\n",
              "           0.21622,     0.21722,     0.21822,     0.21922,     0.22022,     0.22122,     0.22222,     0.22322,     0.22422,     0.22523,     0.22623,     0.22723,     0.22823,     0.22923,     0.23023,     0.23123,     0.23223,     0.23323,     0.23423,     0.23524,     0.23624,     0.23724,     0.23824,     0.23924,\n",
              "           0.24024,     0.24124,     0.24224,     0.24324,     0.24424,     0.24525,     0.24625,     0.24725,     0.24825,     0.24925,     0.25025,     0.25125,     0.25225,     0.25325,     0.25425,     0.25526,     0.25626,     0.25726,     0.25826,     0.25926,     0.26026,     0.26126,     0.26226,     0.26326,\n",
              "           0.26426,     0.26527,     0.26627,     0.26727,     0.26827,     0.26927,     0.27027,     0.27127,     0.27227,     0.27327,     0.27427,     0.27528,     0.27628,     0.27728,     0.27828,     0.27928,     0.28028,     0.28128,     0.28228,     0.28328,     0.28428,     0.28529,     0.28629,     0.28729,\n",
              "           0.28829,     0.28929,     0.29029,     0.29129,     0.29229,     0.29329,     0.29429,      0.2953,      0.2963,      0.2973,      0.2983,      0.2993,      0.3003,      0.3013,      0.3023,      0.3033,      0.3043,     0.30531,     0.30631,     0.30731,     0.30831,     0.30931,     0.31031,     0.31131,\n",
              "           0.31231,     0.31331,     0.31431,     0.31532,     0.31632,     0.31732,     0.31832,     0.31932,     0.32032,     0.32132,     0.32232,     0.32332,     0.32432,     0.32533,     0.32633,     0.32733,     0.32833,     0.32933,     0.33033,     0.33133,     0.33233,     0.33333,     0.33433,     0.33534,\n",
              "           0.33634,     0.33734,     0.33834,     0.33934,     0.34034,     0.34134,     0.34234,     0.34334,     0.34434,     0.34535,     0.34635,     0.34735,     0.34835,     0.34935,     0.35035,     0.35135,     0.35235,     0.35335,     0.35435,     0.35536,     0.35636,     0.35736,     0.35836,     0.35936,\n",
              "           0.36036,     0.36136,     0.36236,     0.36336,     0.36436,     0.36537,     0.36637,     0.36737,     0.36837,     0.36937,     0.37037,     0.37137,     0.37237,     0.37337,     0.37437,     0.37538,     0.37638,     0.37738,     0.37838,     0.37938,     0.38038,     0.38138,     0.38238,     0.38338,\n",
              "           0.38438,     0.38539,     0.38639,     0.38739,     0.38839,     0.38939,     0.39039,     0.39139,     0.39239,     0.39339,     0.39439,      0.3954,      0.3964,      0.3974,      0.3984,      0.3994,      0.4004,      0.4014,      0.4024,      0.4034,      0.4044,     0.40541,     0.40641,     0.40741,\n",
              "           0.40841,     0.40941,     0.41041,     0.41141,     0.41241,     0.41341,     0.41441,     0.41542,     0.41642,     0.41742,     0.41842,     0.41942,     0.42042,     0.42142,     0.42242,     0.42342,     0.42442,     0.42543,     0.42643,     0.42743,     0.42843,     0.42943,     0.43043,     0.43143,\n",
              "           0.43243,     0.43343,     0.43443,     0.43544,     0.43644,     0.43744,     0.43844,     0.43944,     0.44044,     0.44144,     0.44244,     0.44344,     0.44444,     0.44545,     0.44645,     0.44745,     0.44845,     0.44945,     0.45045,     0.45145,     0.45245,     0.45345,     0.45445,     0.45546,\n",
              "           0.45646,     0.45746,     0.45846,     0.45946,     0.46046,     0.46146,     0.46246,     0.46346,     0.46446,     0.46547,     0.46647,     0.46747,     0.46847,     0.46947,     0.47047,     0.47147,     0.47247,     0.47347,     0.47447,     0.47548,     0.47648,     0.47748,     0.47848,     0.47948,\n",
              "           0.48048,     0.48148,     0.48248,     0.48348,     0.48448,     0.48549,     0.48649,     0.48749,     0.48849,     0.48949,     0.49049,     0.49149,     0.49249,     0.49349,     0.49449,      0.4955,      0.4965,      0.4975,      0.4985,      0.4995,      0.5005,      0.5015,      0.5025,      0.5035,\n",
              "            0.5045,     0.50551,     0.50651,     0.50751,     0.50851,     0.50951,     0.51051,     0.51151,     0.51251,     0.51351,     0.51451,     0.51552,     0.51652,     0.51752,     0.51852,     0.51952,     0.52052,     0.52152,     0.52252,     0.52352,     0.52452,     0.52553,     0.52653,     0.52753,\n",
              "           0.52853,     0.52953,     0.53053,     0.53153,     0.53253,     0.53353,     0.53453,     0.53554,     0.53654,     0.53754,     0.53854,     0.53954,     0.54054,     0.54154,     0.54254,     0.54354,     0.54454,     0.54555,     0.54655,     0.54755,     0.54855,     0.54955,     0.55055,     0.55155,\n",
              "           0.55255,     0.55355,     0.55455,     0.55556,     0.55656,     0.55756,     0.55856,     0.55956,     0.56056,     0.56156,     0.56256,     0.56356,     0.56456,     0.56557,     0.56657,     0.56757,     0.56857,     0.56957,     0.57057,     0.57157,     0.57257,     0.57357,     0.57457,     0.57558,\n",
              "           0.57658,     0.57758,     0.57858,     0.57958,     0.58058,     0.58158,     0.58258,     0.58358,     0.58458,     0.58559,     0.58659,     0.58759,     0.58859,     0.58959,     0.59059,     0.59159,     0.59259,     0.59359,     0.59459,      0.5956,      0.5966,      0.5976,      0.5986,      0.5996,\n",
              "            0.6006,      0.6016,      0.6026,      0.6036,      0.6046,     0.60561,     0.60661,     0.60761,     0.60861,     0.60961,     0.61061,     0.61161,     0.61261,     0.61361,     0.61461,     0.61562,     0.61662,     0.61762,     0.61862,     0.61962,     0.62062,     0.62162,     0.62262,     0.62362,\n",
              "           0.62462,     0.62563,     0.62663,     0.62763,     0.62863,     0.62963,     0.63063,     0.63163,     0.63263,     0.63363,     0.63463,     0.63564,     0.63664,     0.63764,     0.63864,     0.63964,     0.64064,     0.64164,     0.64264,     0.64364,     0.64464,     0.64565,     0.64665,     0.64765,\n",
              "           0.64865,     0.64965,     0.65065,     0.65165,     0.65265,     0.65365,     0.65465,     0.65566,     0.65666,     0.65766,     0.65866,     0.65966,     0.66066,     0.66166,     0.66266,     0.66366,     0.66466,     0.66567,     0.66667,     0.66767,     0.66867,     0.66967,     0.67067,     0.67167,\n",
              "           0.67267,     0.67367,     0.67467,     0.67568,     0.67668,     0.67768,     0.67868,     0.67968,     0.68068,     0.68168,     0.68268,     0.68368,     0.68468,     0.68569,     0.68669,     0.68769,     0.68869,     0.68969,     0.69069,     0.69169,     0.69269,     0.69369,     0.69469,      0.6957,\n",
              "            0.6967,      0.6977,      0.6987,      0.6997,      0.7007,      0.7017,      0.7027,      0.7037,      0.7047,     0.70571,     0.70671,     0.70771,     0.70871,     0.70971,     0.71071,     0.71171,     0.71271,     0.71371,     0.71471,     0.71572,     0.71672,     0.71772,     0.71872,     0.71972,\n",
              "           0.72072,     0.72172,     0.72272,     0.72372,     0.72472,     0.72573,     0.72673,     0.72773,     0.72873,     0.72973,     0.73073,     0.73173,     0.73273,     0.73373,     0.73473,     0.73574,     0.73674,     0.73774,     0.73874,     0.73974,     0.74074,     0.74174,     0.74274,     0.74374,\n",
              "           0.74474,     0.74575,     0.74675,     0.74775,     0.74875,     0.74975,     0.75075,     0.75175,     0.75275,     0.75375,     0.75475,     0.75576,     0.75676,     0.75776,     0.75876,     0.75976,     0.76076,     0.76176,     0.76276,     0.76376,     0.76476,     0.76577,     0.76677,     0.76777,\n",
              "           0.76877,     0.76977,     0.77077,     0.77177,     0.77277,     0.77377,     0.77477,     0.77578,     0.77678,     0.77778,     0.77878,     0.77978,     0.78078,     0.78178,     0.78278,     0.78378,     0.78478,     0.78579,     0.78679,     0.78779,     0.78879,     0.78979,     0.79079,     0.79179,\n",
              "           0.79279,     0.79379,     0.79479,      0.7958,      0.7968,      0.7978,      0.7988,      0.7998,      0.8008,      0.8018,      0.8028,      0.8038,      0.8048,     0.80581,     0.80681,     0.80781,     0.80881,     0.80981,     0.81081,     0.81181,     0.81281,     0.81381,     0.81481,     0.81582,\n",
              "           0.81682,     0.81782,     0.81882,     0.81982,     0.82082,     0.82182,     0.82282,     0.82382,     0.82482,     0.82583,     0.82683,     0.82783,     0.82883,     0.82983,     0.83083,     0.83183,     0.83283,     0.83383,     0.83483,     0.83584,     0.83684,     0.83784,     0.83884,     0.83984,\n",
              "           0.84084,     0.84184,     0.84284,     0.84384,     0.84484,     0.84585,     0.84685,     0.84785,     0.84885,     0.84985,     0.85085,     0.85185,     0.85285,     0.85385,     0.85485,     0.85586,     0.85686,     0.85786,     0.85886,     0.85986,     0.86086,     0.86186,     0.86286,     0.86386,\n",
              "           0.86486,     0.86587,     0.86687,     0.86787,     0.86887,     0.86987,     0.87087,     0.87187,     0.87287,     0.87387,     0.87487,     0.87588,     0.87688,     0.87788,     0.87888,     0.87988,     0.88088,     0.88188,     0.88288,     0.88388,     0.88488,     0.88589,     0.88689,     0.88789,\n",
              "           0.88889,     0.88989,     0.89089,     0.89189,     0.89289,     0.89389,     0.89489,      0.8959,      0.8969,      0.8979,      0.8989,      0.8999,      0.9009,      0.9019,      0.9029,      0.9039,      0.9049,     0.90591,     0.90691,     0.90791,     0.90891,     0.90991,     0.91091,     0.91191,\n",
              "           0.91291,     0.91391,     0.91491,     0.91592,     0.91692,     0.91792,     0.91892,     0.91992,     0.92092,     0.92192,     0.92292,     0.92392,     0.92492,     0.92593,     0.92693,     0.92793,     0.92893,     0.92993,     0.93093,     0.93193,     0.93293,     0.93393,     0.93493,     0.93594,\n",
              "           0.93694,     0.93794,     0.93894,     0.93994,     0.94094,     0.94194,     0.94294,     0.94394,     0.94494,     0.94595,     0.94695,     0.94795,     0.94895,     0.94995,     0.95095,     0.95195,     0.95295,     0.95395,     0.95495,     0.95596,     0.95696,     0.95796,     0.95896,     0.95996,\n",
              "           0.96096,     0.96196,     0.96296,     0.96396,     0.96496,     0.96597,     0.96697,     0.96797,     0.96897,     0.96997,     0.97097,     0.97197,     0.97297,     0.97397,     0.97497,     0.97598,     0.97698,     0.97798,     0.97898,     0.97998,     0.98098,     0.98198,     0.98298,     0.98398,\n",
              "           0.98498,     0.98599,     0.98699,     0.98799,     0.98899,     0.98999,     0.99099,     0.99199,     0.99299,     0.99399,     0.99499,       0.996,       0.997,       0.998,       0.999,           1]), array([[    0.15354,     0.15354,     0.23682,     0.29379,     0.34265,     0.37567,     0.40486,      0.4225,     0.43941,     0.45294,     0.47038,     0.48003,     0.49242,     0.50368,      0.5167,     0.52791,      0.5375,     0.54678,     0.55033,     0.55325,     0.56062,     0.56854,     0.56985,\n",
              "            0.57309,     0.58027,     0.58626,     0.59207,     0.59904,     0.60367,      0.6094,     0.61107,      0.6127,     0.61524,     0.61764,     0.62332,     0.62995,     0.63466,     0.64103,     0.64372,     0.64729,     0.64819,     0.65044,     0.65828,     0.65879,     0.66051,     0.66819,\n",
              "            0.66928,     0.67309,     0.67804,     0.68186,     0.68529,     0.68687,     0.69011,     0.69632,     0.69741,     0.70295,      0.7046,     0.70914,     0.71347,     0.71632,     0.71779,     0.72034,      0.7214,     0.72336,     0.72787,     0.73146,     0.73298,     0.73356,     0.73414,\n",
              "              0.735,     0.73612,     0.73978,     0.74422,     0.74499,     0.74577,     0.74715,     0.74876,     0.74906,     0.74932,     0.74958,     0.74984,      0.7501,     0.75036,     0.75071,     0.75225,     0.75841,     0.76157,     0.76301,      0.7641,     0.76511,     0.76729,     0.76777,\n",
              "            0.76826,     0.76874,     0.76873,     0.76856,     0.76839,     0.76818,     0.76791,     0.76835,     0.76988,     0.77077,     0.77195,     0.77417,     0.77591,     0.77715,     0.77685,      0.7772,     0.77847,     0.77902,     0.77948,     0.77994,      0.7804,     0.78003,     0.78153,\n",
              "            0.78432,      0.7854,     0.78604,     0.78632,     0.78659,     0.78687,     0.78715,     0.78742,      0.7877,      0.7885,     0.78995,     0.79028,     0.79061,     0.79094,     0.79127,      0.7916,     0.79192,     0.79217,     0.79242,     0.79268,     0.79293,     0.79319,     0.79344,\n",
              "             0.7937,     0.79405,     0.79478,      0.7955,     0.79679,     0.79888,     0.80033,     0.80103,     0.80173,     0.80241,     0.80306,     0.80371,     0.80475,     0.80684,     0.80875,     0.80943,     0.81012,     0.81074,     0.81132,      0.8119,     0.81247,     0.81314,     0.81381,\n",
              "            0.81448,     0.81685,     0.81715,     0.81746,     0.81777,     0.81808,     0.81839,      0.8187,     0.82093,     0.82156,     0.82209,     0.82261,     0.82313,     0.82342,     0.82366,      0.8239,     0.82414,     0.82439,     0.82463,     0.82487,     0.82511,     0.82535,       0.826,\n",
              "            0.82675,      0.8275,     0.82993,     0.83047,       0.831,     0.83153,     0.83154,     0.83143,     0.83133,     0.83122,     0.83111,     0.83369,      0.8351,     0.83896,     0.84195,     0.84181,     0.84167,     0.84156,     0.84275,     0.84383,     0.84371,      0.8436,     0.84349,\n",
              "            0.84454,     0.84567,     0.84557,     0.84548,     0.84538,     0.84525,     0.84493,     0.84478,     0.84466,     0.84454,     0.84487,     0.84695,     0.84773,      0.8485,      0.8491,      0.8487,     0.84848,     0.84831,     0.84828,     0.84825,     0.84822,      0.8482,     0.84817,\n",
              "            0.84814,     0.84811,     0.84809,     0.84806,     0.84803,       0.848,     0.84797,     0.84795,     0.84792,     0.84789,     0.84815,     0.84845,     0.84875,     0.84905,     0.84936,     0.84966,     0.84996,     0.85026,     0.85054,     0.85081,     0.85109,     0.85136,     0.85164,\n",
              "            0.85191,     0.85218,     0.85246,     0.85278,     0.85477,     0.85493,     0.85509,     0.85525,     0.85541,     0.85558,     0.85574,      0.8559,     0.85606,     0.85622,     0.85638,     0.85655,     0.85671,     0.85687,     0.85703,     0.85712,     0.85704,     0.85696,     0.85688,\n",
              "             0.8568,     0.85672,     0.85662,     0.85653,     0.85644,     0.85634,     0.85732,     0.85858,     0.85919,     0.85968,     0.86016,     0.86065,     0.86113,     0.86124,     0.86175,     0.86226,     0.86278,     0.86329,     0.86424,     0.86527,     0.86599,     0.86625,     0.86651,\n",
              "            0.86677,     0.86703,     0.86729,     0.86755,     0.86781,     0.86807,     0.86833,     0.86917,     0.87033,     0.87109,     0.87136,     0.87163,      0.8719,     0.87217,     0.87243,      0.8727,     0.87297,     0.87324,     0.87351,     0.87369,     0.87386,     0.87403,      0.8742,\n",
              "            0.87437,     0.87454,     0.87471,     0.87488,     0.87505,     0.87522,     0.87539,     0.87556,     0.87573,      0.8759,     0.87607,     0.87606,       0.876,     0.87594,     0.87588,     0.87582,     0.87576,     0.87637,     0.87726,     0.87815,     0.87872,     0.87921,      0.8797,\n",
              "            0.88018,     0.88067,     0.88092,     0.88086,     0.88079,     0.88073,     0.88066,     0.88059,     0.88053,     0.88046,     0.88039,     0.88033,     0.88026,     0.88131,     0.88286,     0.88251,     0.88248,     0.88246,     0.88244,     0.88241,     0.88239,     0.88237,     0.88235,\n",
              "            0.88232,      0.8823,     0.88228,     0.88225,     0.88223,     0.88221,     0.88218,     0.88237,      0.8827,     0.88302,     0.88334,     0.88366,     0.88399,     0.88431,     0.88463,     0.88766,     0.88803,      0.8884,     0.88877,     0.88914,     0.88951,     0.88988,     0.89025,\n",
              "            0.89095,     0.89165,     0.89234,     0.89295,     0.89283,     0.89271,     0.89209,     0.89236,     0.89263,      0.8929,     0.89317,     0.89344,     0.89371,     0.89398,     0.89425,     0.89452,     0.89479,     0.89508,     0.89537,     0.89567,     0.89596,     0.89625,     0.89654,\n",
              "            0.89683,     0.89713,     0.89742,     0.89815,     0.89911,     0.90006,     0.90025,     0.90016,     0.90008,     0.90002,     0.90021,     0.90041,      0.9006,      0.9008,       0.901,     0.90119,     0.90139,     0.90158,     0.90178,     0.90198,     0.90217,     0.90237,     0.90257,\n",
              "            0.90276,     0.90279,     0.90273,     0.90268,     0.90263,     0.90258,     0.90252,     0.90238,     0.90223,     0.90235,     0.90252,     0.90268,     0.90285,     0.90301,     0.90318,     0.90334,     0.90351,     0.90367,     0.90384,       0.904,     0.90417,     0.90433,      0.9045,\n",
              "            0.90466,     0.90483,     0.90499,     0.90504,     0.90499,     0.90495,     0.90491,     0.90486,     0.90482,     0.90477,     0.90696,     0.90763,      0.9076,     0.90758,     0.90756,     0.90753,     0.90751,     0.90749,     0.90746,     0.90744,     0.90742,     0.90739,     0.90737,\n",
              "            0.90704,     0.90697,     0.90689,     0.90682,     0.90703,     0.90853,     0.90985,     0.91061,     0.91136,     0.91212,     0.91271,     0.91299,     0.91326,     0.91354,     0.91382,     0.91409,     0.91437,     0.91464,     0.91492,      0.9152,     0.91547,     0.91554,     0.91547,\n",
              "             0.9154,     0.91533,     0.91574,     0.91635,     0.91696,     0.91758,     0.91819,     0.91808,     0.91801,     0.91798,     0.91795,     0.91791,     0.91788,     0.91785,     0.91782,     0.91779,     0.91776,     0.91774,     0.91772,      0.9177,     0.91768,     0.91766,     0.91764,\n",
              "            0.91762,      0.9176,     0.91758,     0.91756,     0.91754,     0.91752,      0.9175,     0.91748,     0.91744,      0.9174,     0.91736,     0.91732,     0.91728,     0.91724,     0.91767,     0.91845,     0.91923,     0.92001,     0.92025,     0.92023,     0.92021,     0.92019,     0.92017,\n",
              "            0.92015,     0.92013,     0.92011,     0.92009,     0.92007,     0.92005,     0.92003,     0.92001,     0.92079,     0.92237,     0.92482,     0.92663,     0.92743,     0.92823,     0.92903,     0.92925,     0.92919,     0.92913,     0.92907,     0.92903,     0.92899,     0.92896,     0.92892,\n",
              "            0.92889,     0.92885,     0.92882,     0.92874,     0.92865,     0.92857,      0.9284,     0.92826,     0.92813,     0.92807,     0.92805,     0.92804,     0.92802,       0.928,     0.92798,     0.92797,     0.92795,     0.92793,     0.92791,      0.9279,     0.92788,     0.92786,     0.92784,\n",
              "            0.92932,     0.93103,     0.93102,       0.931,     0.93099,     0.93098,     0.93096,     0.93095,     0.93094,     0.93093,     0.93091,      0.9309,     0.93089,     0.93087,     0.93086,     0.93085,     0.93084,     0.93082,     0.93081,      0.9308,     0.93184,     0.93294,     0.93404,\n",
              "            0.93455,     0.93506,     0.93558,     0.93609,      0.9366,     0.93711,     0.93725,     0.93721,     0.93717,     0.93713,     0.93709,     0.93727,     0.93794,     0.93862,     0.93929,     0.93997,     0.94031,     0.94023,     0.94014,     0.94068,     0.94144,      0.9422,     0.94296,\n",
              "            0.94326,     0.94324,     0.94323,     0.94322,     0.94321,      0.9432,     0.94318,     0.94317,     0.94316,     0.94315,     0.94314,     0.94313,     0.94311,      0.9431,     0.94309,     0.94308,     0.94307,     0.94304,     0.94299,     0.94294,      0.9429,     0.94299,     0.94398,\n",
              "            0.94497,     0.94596,      0.9462,     0.94614,     0.94608,       0.946,     0.94587,     0.94583,     0.94581,     0.94578,     0.94576,     0.94574,     0.94572,      0.9457,     0.94567,     0.94565,     0.94562,      0.9456,     0.94557,     0.94554,     0.94552,     0.94549,     0.94546,\n",
              "            0.94541,     0.94535,     0.94529,     0.94524,     0.94518,     0.94512,     0.94506,     0.94587,     0.94676,     0.94765,     0.94853,     0.94834,     0.94826,     0.94818,     0.94812,     0.94807,     0.94802,     0.94797,     0.94792,     0.94786,      0.9478,     0.94775,     0.94771,\n",
              "            0.94768,     0.94764,      0.9476,     0.94757,     0.94754,     0.94752,      0.9475,     0.94747,     0.94745,     0.94742,      0.9474,     0.94738,     0.94733,     0.94726,     0.94719,     0.94712,     0.94705,     0.94699,     0.94696,     0.94694,     0.94692,     0.94691,     0.94689,\n",
              "            0.94687,     0.94686,     0.94684,     0.94682,     0.94681,     0.94679,     0.94678,     0.94673,     0.94666,     0.94659,     0.94647,     0.94632,     0.94592,     0.94577,     0.94563,     0.94548,     0.94534,     0.94527,     0.94521,     0.94516,      0.9451,     0.94507,     0.94504,\n",
              "            0.94502,     0.94499,     0.94496,     0.94493,     0.94491,     0.94486,     0.94464,     0.94449,      0.9444,     0.94434,     0.94427,     0.94418,     0.94403,     0.94397,     0.94393,     0.94389,     0.94385,     0.94382,     0.94378,     0.94746,     0.94753,     0.94747,     0.94742,\n",
              "             0.9475,     0.94948,      0.9512,     0.95107,     0.95511,     0.95626,     0.95741,     0.95856,     0.95878,      0.9587,     0.95795,     0.95782,     0.95784,     0.95996,     0.96102,     0.96098,     0.96095,     0.96091,     0.96087,     0.96081,     0.96075,     0.96049,     0.96024,\n",
              "            0.95995,     0.95974,     0.95957,     0.95941,     0.95933,     0.95923,     0.95887,     0.95874,     0.95839,     0.95831,     0.95827,     0.95824,     0.95821,     0.95817,     0.95814,     0.95774,     0.95755,     0.96133,     0.96113,     0.96106,       0.961,     0.96413,     0.96565,\n",
              "             0.9656,     0.96555,     0.96547,     0.96524,     0.96503,      0.9649,     0.96433,     0.96412,     0.97273,     0.97349,     0.97343,     0.97336,     0.97311,     0.97275,     0.97259,     0.97237,     0.97232,     0.97227,     0.97217,     0.97196,     0.97155,     0.97139,     0.97122,\n",
              "            0.97105,     0.97082,     0.97029,     0.97008,     0.97454,     0.97555,     0.97517,      0.9749,     0.97468,     0.97764,     0.98039,     0.97998,     0.97978,     0.97956,     0.97915,     0.97882,     0.98348,     0.98554,     0.98513,      0.9849,     0.98458,     0.98442,     0.98404,\n",
              "            0.98384,     0.98375,     0.98335,     0.98291,     0.98261,     0.98211,     0.98204,     0.98197,     0.98172,     0.98158,     0.98147,     0.98135,     0.98089,     0.98012,     0.97929,     0.97884,     0.97795,     0.97785,     0.97762,     0.98841,     0.98813,     0.98801,     0.98789,\n",
              "            0.98774,     0.98719,     0.98675,     0.98648,     0.98626,     0.98618,     0.98567,     0.98527,     0.98504,     0.98453,     0.98403,     0.98313,      0.9824,     0.98219,     0.98162,     0.98109,     0.98094,     0.98079,     0.98008,      0.9794,     0.97918,     0.97874,     0.99991,\n",
              "                  1,           1,           1,           1,           1,           1,           1,           1,           1,           1,           1,           1,           1,           1,           1,           1,           1,           1,           1,           1,           1,           1,           1,\n",
              "                  1,           1,           1,           1,           1,           1,           1,           1,           1,           1,           1,           1,           1,           1,           1,           1,           1,           1,           1,           1,           1,           1,           1,\n",
              "                  1,           1,           1,           1,           1,           1,           1,           1,           1,           1,           1,           1,           1,           1,           1,           1,           1,           1,           1,           1,           1,           1,           1,\n",
              "                  1,           1,           1,           1,           1,           1,           1,           1,           1,           1,           1]]), 'Confidence', 'Precision'], [array([          0,    0.001001,    0.002002,    0.003003,    0.004004,    0.005005,    0.006006,    0.007007,    0.008008,    0.009009,     0.01001,    0.011011,    0.012012,    0.013013,    0.014014,    0.015015,    0.016016,    0.017017,    0.018018,    0.019019,     0.02002,    0.021021,    0.022022,    0.023023,\n",
              "          0.024024,    0.025025,    0.026026,    0.027027,    0.028028,    0.029029,     0.03003,    0.031031,    0.032032,    0.033033,    0.034034,    0.035035,    0.036036,    0.037037,    0.038038,    0.039039,     0.04004,    0.041041,    0.042042,    0.043043,    0.044044,    0.045045,    0.046046,    0.047047,\n",
              "          0.048048,    0.049049,     0.05005,    0.051051,    0.052052,    0.053053,    0.054054,    0.055055,    0.056056,    0.057057,    0.058058,    0.059059,     0.06006,    0.061061,    0.062062,    0.063063,    0.064064,    0.065065,    0.066066,    0.067067,    0.068068,    0.069069,     0.07007,    0.071071,\n",
              "          0.072072,    0.073073,    0.074074,    0.075075,    0.076076,    0.077077,    0.078078,    0.079079,     0.08008,    0.081081,    0.082082,    0.083083,    0.084084,    0.085085,    0.086086,    0.087087,    0.088088,    0.089089,     0.09009,    0.091091,    0.092092,    0.093093,    0.094094,    0.095095,\n",
              "          0.096096,    0.097097,    0.098098,    0.099099,      0.1001,      0.1011,      0.1021,      0.1031,      0.1041,     0.10511,     0.10611,     0.10711,     0.10811,     0.10911,     0.11011,     0.11111,     0.11211,     0.11311,     0.11411,     0.11512,     0.11612,     0.11712,     0.11812,     0.11912,\n",
              "           0.12012,     0.12112,     0.12212,     0.12312,     0.12412,     0.12513,     0.12613,     0.12713,     0.12813,     0.12913,     0.13013,     0.13113,     0.13213,     0.13313,     0.13413,     0.13514,     0.13614,     0.13714,     0.13814,     0.13914,     0.14014,     0.14114,     0.14214,     0.14314,\n",
              "           0.14414,     0.14515,     0.14615,     0.14715,     0.14815,     0.14915,     0.15015,     0.15115,     0.15215,     0.15315,     0.15415,     0.15516,     0.15616,     0.15716,     0.15816,     0.15916,     0.16016,     0.16116,     0.16216,     0.16316,     0.16416,     0.16517,     0.16617,     0.16717,\n",
              "           0.16817,     0.16917,     0.17017,     0.17117,     0.17217,     0.17317,     0.17417,     0.17518,     0.17618,     0.17718,     0.17818,     0.17918,     0.18018,     0.18118,     0.18218,     0.18318,     0.18418,     0.18519,     0.18619,     0.18719,     0.18819,     0.18919,     0.19019,     0.19119,\n",
              "           0.19219,     0.19319,     0.19419,      0.1952,      0.1962,      0.1972,      0.1982,      0.1992,      0.2002,      0.2012,      0.2022,      0.2032,      0.2042,     0.20521,     0.20621,     0.20721,     0.20821,     0.20921,     0.21021,     0.21121,     0.21221,     0.21321,     0.21421,     0.21522,\n",
              "           0.21622,     0.21722,     0.21822,     0.21922,     0.22022,     0.22122,     0.22222,     0.22322,     0.22422,     0.22523,     0.22623,     0.22723,     0.22823,     0.22923,     0.23023,     0.23123,     0.23223,     0.23323,     0.23423,     0.23524,     0.23624,     0.23724,     0.23824,     0.23924,\n",
              "           0.24024,     0.24124,     0.24224,     0.24324,     0.24424,     0.24525,     0.24625,     0.24725,     0.24825,     0.24925,     0.25025,     0.25125,     0.25225,     0.25325,     0.25425,     0.25526,     0.25626,     0.25726,     0.25826,     0.25926,     0.26026,     0.26126,     0.26226,     0.26326,\n",
              "           0.26426,     0.26527,     0.26627,     0.26727,     0.26827,     0.26927,     0.27027,     0.27127,     0.27227,     0.27327,     0.27427,     0.27528,     0.27628,     0.27728,     0.27828,     0.27928,     0.28028,     0.28128,     0.28228,     0.28328,     0.28428,     0.28529,     0.28629,     0.28729,\n",
              "           0.28829,     0.28929,     0.29029,     0.29129,     0.29229,     0.29329,     0.29429,      0.2953,      0.2963,      0.2973,      0.2983,      0.2993,      0.3003,      0.3013,      0.3023,      0.3033,      0.3043,     0.30531,     0.30631,     0.30731,     0.30831,     0.30931,     0.31031,     0.31131,\n",
              "           0.31231,     0.31331,     0.31431,     0.31532,     0.31632,     0.31732,     0.31832,     0.31932,     0.32032,     0.32132,     0.32232,     0.32332,     0.32432,     0.32533,     0.32633,     0.32733,     0.32833,     0.32933,     0.33033,     0.33133,     0.33233,     0.33333,     0.33433,     0.33534,\n",
              "           0.33634,     0.33734,     0.33834,     0.33934,     0.34034,     0.34134,     0.34234,     0.34334,     0.34434,     0.34535,     0.34635,     0.34735,     0.34835,     0.34935,     0.35035,     0.35135,     0.35235,     0.35335,     0.35435,     0.35536,     0.35636,     0.35736,     0.35836,     0.35936,\n",
              "           0.36036,     0.36136,     0.36236,     0.36336,     0.36436,     0.36537,     0.36637,     0.36737,     0.36837,     0.36937,     0.37037,     0.37137,     0.37237,     0.37337,     0.37437,     0.37538,     0.37638,     0.37738,     0.37838,     0.37938,     0.38038,     0.38138,     0.38238,     0.38338,\n",
              "           0.38438,     0.38539,     0.38639,     0.38739,     0.38839,     0.38939,     0.39039,     0.39139,     0.39239,     0.39339,     0.39439,      0.3954,      0.3964,      0.3974,      0.3984,      0.3994,      0.4004,      0.4014,      0.4024,      0.4034,      0.4044,     0.40541,     0.40641,     0.40741,\n",
              "           0.40841,     0.40941,     0.41041,     0.41141,     0.41241,     0.41341,     0.41441,     0.41542,     0.41642,     0.41742,     0.41842,     0.41942,     0.42042,     0.42142,     0.42242,     0.42342,     0.42442,     0.42543,     0.42643,     0.42743,     0.42843,     0.42943,     0.43043,     0.43143,\n",
              "           0.43243,     0.43343,     0.43443,     0.43544,     0.43644,     0.43744,     0.43844,     0.43944,     0.44044,     0.44144,     0.44244,     0.44344,     0.44444,     0.44545,     0.44645,     0.44745,     0.44845,     0.44945,     0.45045,     0.45145,     0.45245,     0.45345,     0.45445,     0.45546,\n",
              "           0.45646,     0.45746,     0.45846,     0.45946,     0.46046,     0.46146,     0.46246,     0.46346,     0.46446,     0.46547,     0.46647,     0.46747,     0.46847,     0.46947,     0.47047,     0.47147,     0.47247,     0.47347,     0.47447,     0.47548,     0.47648,     0.47748,     0.47848,     0.47948,\n",
              "           0.48048,     0.48148,     0.48248,     0.48348,     0.48448,     0.48549,     0.48649,     0.48749,     0.48849,     0.48949,     0.49049,     0.49149,     0.49249,     0.49349,     0.49449,      0.4955,      0.4965,      0.4975,      0.4985,      0.4995,      0.5005,      0.5015,      0.5025,      0.5035,\n",
              "            0.5045,     0.50551,     0.50651,     0.50751,     0.50851,     0.50951,     0.51051,     0.51151,     0.51251,     0.51351,     0.51451,     0.51552,     0.51652,     0.51752,     0.51852,     0.51952,     0.52052,     0.52152,     0.52252,     0.52352,     0.52452,     0.52553,     0.52653,     0.52753,\n",
              "           0.52853,     0.52953,     0.53053,     0.53153,     0.53253,     0.53353,     0.53453,     0.53554,     0.53654,     0.53754,     0.53854,     0.53954,     0.54054,     0.54154,     0.54254,     0.54354,     0.54454,     0.54555,     0.54655,     0.54755,     0.54855,     0.54955,     0.55055,     0.55155,\n",
              "           0.55255,     0.55355,     0.55455,     0.55556,     0.55656,     0.55756,     0.55856,     0.55956,     0.56056,     0.56156,     0.56256,     0.56356,     0.56456,     0.56557,     0.56657,     0.56757,     0.56857,     0.56957,     0.57057,     0.57157,     0.57257,     0.57357,     0.57457,     0.57558,\n",
              "           0.57658,     0.57758,     0.57858,     0.57958,     0.58058,     0.58158,     0.58258,     0.58358,     0.58458,     0.58559,     0.58659,     0.58759,     0.58859,     0.58959,     0.59059,     0.59159,     0.59259,     0.59359,     0.59459,      0.5956,      0.5966,      0.5976,      0.5986,      0.5996,\n",
              "            0.6006,      0.6016,      0.6026,      0.6036,      0.6046,     0.60561,     0.60661,     0.60761,     0.60861,     0.60961,     0.61061,     0.61161,     0.61261,     0.61361,     0.61461,     0.61562,     0.61662,     0.61762,     0.61862,     0.61962,     0.62062,     0.62162,     0.62262,     0.62362,\n",
              "           0.62462,     0.62563,     0.62663,     0.62763,     0.62863,     0.62963,     0.63063,     0.63163,     0.63263,     0.63363,     0.63463,     0.63564,     0.63664,     0.63764,     0.63864,     0.63964,     0.64064,     0.64164,     0.64264,     0.64364,     0.64464,     0.64565,     0.64665,     0.64765,\n",
              "           0.64865,     0.64965,     0.65065,     0.65165,     0.65265,     0.65365,     0.65465,     0.65566,     0.65666,     0.65766,     0.65866,     0.65966,     0.66066,     0.66166,     0.66266,     0.66366,     0.66466,     0.66567,     0.66667,     0.66767,     0.66867,     0.66967,     0.67067,     0.67167,\n",
              "           0.67267,     0.67367,     0.67467,     0.67568,     0.67668,     0.67768,     0.67868,     0.67968,     0.68068,     0.68168,     0.68268,     0.68368,     0.68468,     0.68569,     0.68669,     0.68769,     0.68869,     0.68969,     0.69069,     0.69169,     0.69269,     0.69369,     0.69469,      0.6957,\n",
              "            0.6967,      0.6977,      0.6987,      0.6997,      0.7007,      0.7017,      0.7027,      0.7037,      0.7047,     0.70571,     0.70671,     0.70771,     0.70871,     0.70971,     0.71071,     0.71171,     0.71271,     0.71371,     0.71471,     0.71572,     0.71672,     0.71772,     0.71872,     0.71972,\n",
              "           0.72072,     0.72172,     0.72272,     0.72372,     0.72472,     0.72573,     0.72673,     0.72773,     0.72873,     0.72973,     0.73073,     0.73173,     0.73273,     0.73373,     0.73473,     0.73574,     0.73674,     0.73774,     0.73874,     0.73974,     0.74074,     0.74174,     0.74274,     0.74374,\n",
              "           0.74474,     0.74575,     0.74675,     0.74775,     0.74875,     0.74975,     0.75075,     0.75175,     0.75275,     0.75375,     0.75475,     0.75576,     0.75676,     0.75776,     0.75876,     0.75976,     0.76076,     0.76176,     0.76276,     0.76376,     0.76476,     0.76577,     0.76677,     0.76777,\n",
              "           0.76877,     0.76977,     0.77077,     0.77177,     0.77277,     0.77377,     0.77477,     0.77578,     0.77678,     0.77778,     0.77878,     0.77978,     0.78078,     0.78178,     0.78278,     0.78378,     0.78478,     0.78579,     0.78679,     0.78779,     0.78879,     0.78979,     0.79079,     0.79179,\n",
              "           0.79279,     0.79379,     0.79479,      0.7958,      0.7968,      0.7978,      0.7988,      0.7998,      0.8008,      0.8018,      0.8028,      0.8038,      0.8048,     0.80581,     0.80681,     0.80781,     0.80881,     0.80981,     0.81081,     0.81181,     0.81281,     0.81381,     0.81481,     0.81582,\n",
              "           0.81682,     0.81782,     0.81882,     0.81982,     0.82082,     0.82182,     0.82282,     0.82382,     0.82482,     0.82583,     0.82683,     0.82783,     0.82883,     0.82983,     0.83083,     0.83183,     0.83283,     0.83383,     0.83483,     0.83584,     0.83684,     0.83784,     0.83884,     0.83984,\n",
              "           0.84084,     0.84184,     0.84284,     0.84384,     0.84484,     0.84585,     0.84685,     0.84785,     0.84885,     0.84985,     0.85085,     0.85185,     0.85285,     0.85385,     0.85485,     0.85586,     0.85686,     0.85786,     0.85886,     0.85986,     0.86086,     0.86186,     0.86286,     0.86386,\n",
              "           0.86486,     0.86587,     0.86687,     0.86787,     0.86887,     0.86987,     0.87087,     0.87187,     0.87287,     0.87387,     0.87487,     0.87588,     0.87688,     0.87788,     0.87888,     0.87988,     0.88088,     0.88188,     0.88288,     0.88388,     0.88488,     0.88589,     0.88689,     0.88789,\n",
              "           0.88889,     0.88989,     0.89089,     0.89189,     0.89289,     0.89389,     0.89489,      0.8959,      0.8969,      0.8979,      0.8989,      0.8999,      0.9009,      0.9019,      0.9029,      0.9039,      0.9049,     0.90591,     0.90691,     0.90791,     0.90891,     0.90991,     0.91091,     0.91191,\n",
              "           0.91291,     0.91391,     0.91491,     0.91592,     0.91692,     0.91792,     0.91892,     0.91992,     0.92092,     0.92192,     0.92292,     0.92392,     0.92492,     0.92593,     0.92693,     0.92793,     0.92893,     0.92993,     0.93093,     0.93193,     0.93293,     0.93393,     0.93493,     0.93594,\n",
              "           0.93694,     0.93794,     0.93894,     0.93994,     0.94094,     0.94194,     0.94294,     0.94394,     0.94494,     0.94595,     0.94695,     0.94795,     0.94895,     0.94995,     0.95095,     0.95195,     0.95295,     0.95395,     0.95495,     0.95596,     0.95696,     0.95796,     0.95896,     0.95996,\n",
              "           0.96096,     0.96196,     0.96296,     0.96396,     0.96496,     0.96597,     0.96697,     0.96797,     0.96897,     0.96997,     0.97097,     0.97197,     0.97297,     0.97397,     0.97497,     0.97598,     0.97698,     0.97798,     0.97898,     0.97998,     0.98098,     0.98198,     0.98298,     0.98398,\n",
              "           0.98498,     0.98599,     0.98699,     0.98799,     0.98899,     0.98999,     0.99099,     0.99199,     0.99299,     0.99399,     0.99499,       0.996,       0.997,       0.998,       0.999,           1]), array([[    0.96078,     0.96078,     0.94398,     0.94398,     0.94118,     0.94118,     0.93557,     0.93277,     0.92997,     0.92717,     0.92717,     0.92437,     0.92437,     0.92157,     0.92157,     0.92157,     0.92157,     0.92157,     0.91877,     0.91317,     0.91317,     0.91317,     0.90917,\n",
              "            0.90756,     0.90756,     0.90756,     0.90756,     0.90756,     0.90756,     0.90476,     0.90196,     0.90196,     0.90028,     0.89916,     0.89916,     0.89916,     0.89916,     0.89916,     0.89916,     0.89916,     0.89916,     0.89916,     0.89916,     0.89636,     0.89636,     0.89636,\n",
              "            0.89636,     0.89636,     0.89636,     0.89636,     0.89356,     0.89356,     0.89356,     0.89356,     0.89092,     0.89076,     0.89076,     0.89076,     0.89076,     0.89076,     0.89076,     0.89076,     0.89076,     0.89076,     0.89076,     0.89076,     0.89076,     0.89076,     0.89076,\n",
              "            0.89076,     0.89076,     0.88796,     0.88796,     0.88796,     0.88796,     0.88515,     0.88515,     0.88515,     0.88515,     0.88515,     0.88515,     0.88515,     0.88515,     0.88515,     0.88515,     0.88515,     0.88515,     0.88515,     0.88515,     0.88515,     0.88515,     0.88515,\n",
              "            0.88515,     0.88515,     0.88451,     0.88368,     0.88284,     0.88179,     0.88044,     0.87955,     0.87955,     0.87955,     0.87955,     0.87955,     0.87955,     0.87917,     0.87764,     0.87675,     0.87675,     0.87675,     0.87675,     0.87675,     0.87675,     0.87413,     0.87395,\n",
              "            0.87395,     0.87395,     0.87395,     0.87395,     0.87395,     0.87395,     0.87395,     0.87395,     0.87395,     0.87395,     0.87395,     0.87395,     0.87395,     0.87395,     0.87395,     0.87395,     0.87395,     0.87395,     0.87395,     0.87395,     0.87395,     0.87395,     0.87395,\n",
              "            0.87395,     0.87395,     0.87395,     0.87395,     0.87395,     0.87395,     0.87395,     0.87395,     0.87395,     0.87395,     0.87395,     0.87395,     0.87395,     0.87395,     0.87395,     0.87395,     0.87395,     0.87395,     0.87395,     0.87395,     0.87395,     0.87395,     0.87395,\n",
              "            0.87395,     0.87395,     0.87395,     0.87395,     0.87395,     0.87395,     0.87395,     0.87395,     0.87395,     0.87395,     0.87395,     0.87395,     0.87395,     0.87395,     0.87395,     0.87395,     0.87395,     0.87395,     0.87395,     0.87395,     0.87395,     0.87395,     0.87395,\n",
              "            0.87395,     0.87395,     0.87395,     0.87395,     0.87395,     0.87395,     0.87107,     0.87041,     0.86975,      0.8691,     0.86844,     0.86835,     0.86835,     0.86555,     0.86547,     0.86456,     0.86364,     0.86275,     0.86275,     0.86269,     0.86195,     0.86121,     0.86046,\n",
              "            0.85994,     0.85952,      0.8589,     0.85828,     0.85765,     0.85678,     0.85469,      0.8537,     0.85294,     0.85217,     0.85154,     0.85154,     0.85154,     0.85154,      0.8511,     0.84849,     0.84705,      0.8459,     0.84572,     0.84553,     0.84535,     0.84517,     0.84499,\n",
              "             0.8448,     0.84462,     0.84444,     0.84426,     0.84407,     0.84389,     0.84371,     0.84353,     0.84335,     0.84316,     0.84314,     0.84314,     0.84314,     0.84314,     0.84314,     0.84314,     0.84314,     0.84314,     0.84314,     0.84314,     0.84314,     0.84314,     0.84314,\n",
              "            0.84314,     0.84314,     0.84314,     0.84034,     0.84034,     0.84034,     0.84034,     0.84034,     0.84034,     0.84034,     0.84034,     0.84034,     0.84034,     0.84034,     0.84034,     0.84034,     0.84034,     0.84034,     0.84034,     0.84017,     0.83963,     0.83908,     0.83853,\n",
              "            0.83798,     0.83742,     0.83678,     0.83615,     0.83551,     0.83487,     0.83473,     0.83473,     0.83473,     0.83473,     0.83473,     0.83473,     0.83473,     0.83193,     0.83193,     0.83193,     0.83193,     0.83193,     0.83193,     0.83193,     0.83193,     0.83193,     0.83193,\n",
              "            0.83193,     0.83193,     0.83193,     0.83193,     0.83193,     0.83193,     0.83193,     0.83193,     0.83193,     0.83193,     0.83193,     0.83193,     0.83193,     0.83193,     0.83193,     0.83193,     0.83193,     0.83193,     0.83193,     0.83193,     0.83193,     0.83193,     0.83193,\n",
              "            0.83193,     0.83193,     0.83193,     0.83193,     0.83193,     0.83193,     0.83193,     0.83193,     0.83193,     0.83193,     0.83193,     0.83156,      0.8311,     0.83064,     0.83018,     0.82972,     0.82926,     0.82913,     0.82913,     0.82913,     0.82913,     0.82913,     0.82913,\n",
              "            0.82913,     0.82913,     0.82891,     0.82839,     0.82787,     0.82734,     0.82682,      0.8263,     0.82578,     0.82526,     0.82473,     0.82421,     0.82369,     0.82353,     0.82353,     0.82055,     0.82037,     0.82018,        0.82,     0.81982,     0.81964,     0.81946,     0.81927,\n",
              "            0.81909,     0.81891,     0.81873,     0.81854,     0.81836,     0.81818,       0.818,     0.81793,     0.81793,     0.81793,     0.81793,     0.81793,     0.81793,     0.81793,     0.81793,     0.81793,     0.81793,     0.81793,     0.81793,     0.81793,     0.81793,     0.81793,     0.81793,\n",
              "            0.81793,     0.81793,     0.81793,     0.81782,     0.81677,     0.81573,     0.80952,     0.80952,     0.80952,     0.80952,     0.80952,     0.80952,     0.80952,     0.80952,     0.80952,     0.80952,     0.80952,     0.80952,     0.80952,     0.80952,     0.80952,     0.80952,     0.80952,\n",
              "            0.80952,     0.80952,     0.80952,     0.80952,     0.80952,     0.80952,     0.80896,     0.80819,     0.80742,     0.80672,     0.80672,     0.80672,     0.80672,     0.80672,     0.80672,     0.80672,     0.80672,     0.80672,     0.80672,     0.80672,     0.80672,     0.80672,     0.80672,\n",
              "            0.80672,     0.80639,     0.80591,     0.80543,     0.80496,     0.80448,       0.804,     0.80272,     0.80128,     0.80112,     0.80112,     0.80112,     0.80112,     0.80112,     0.80112,     0.80112,     0.80112,     0.80112,     0.80112,     0.80112,     0.80112,     0.80112,     0.80112,\n",
              "            0.80112,     0.80112,     0.80112,     0.80089,     0.80048,     0.80007,     0.79966,     0.79925,     0.79883,     0.79842,     0.79832,     0.79815,     0.79793,     0.79771,     0.79749,     0.79727,     0.79705,     0.79682,      0.7966,     0.79638,     0.79616,     0.79594,     0.79572,\n",
              "            0.79266,     0.79194,     0.79122,      0.7905,     0.78992,     0.78992,     0.78992,     0.78992,     0.78992,     0.78992,     0.78992,     0.78992,     0.78992,     0.78992,     0.78992,     0.78992,     0.78992,     0.78992,     0.78992,     0.78992,     0.78992,     0.78949,     0.78877,\n",
              "            0.78805,     0.78733,     0.78711,     0.78711,     0.78711,     0.78711,     0.78711,     0.78477,     0.78405,     0.78373,     0.78341,     0.78309,     0.78277,     0.78245,     0.78213,     0.78181,      0.7815,     0.78129,     0.78109,     0.78088,     0.78068,     0.78047,     0.78027,\n",
              "            0.78006,     0.77986,     0.77965,     0.77945,     0.77924,     0.77904,     0.77883,     0.77855,     0.77814,     0.77773,     0.77732,     0.77691,      0.7765,     0.77609,     0.77591,     0.77591,     0.77591,     0.77591,     0.77577,     0.77555,     0.77534,     0.77513,     0.77492,\n",
              "             0.7747,     0.77449,     0.77428,     0.77407,     0.77385,     0.77364,     0.77343,     0.77322,     0.77311,     0.77311,     0.77311,     0.77311,     0.77311,     0.77311,     0.77311,     0.77263,     0.77191,     0.77119,     0.77047,     0.76999,     0.76958,     0.76917,     0.76876,\n",
              "            0.76835,     0.76794,     0.76753,     0.76661,     0.76565,     0.76468,     0.76276,     0.76111,     0.75968,     0.75898,     0.75879,     0.75859,     0.75839,     0.75819,     0.75799,      0.7578,      0.7576,      0.7574,      0.7572,       0.757,     0.75681,     0.75661,     0.75641,\n",
              "             0.7563,     0.75623,     0.75608,     0.75593,     0.75578,     0.75563,     0.75547,     0.75532,     0.75517,     0.75502,     0.75487,     0.75472,     0.75457,     0.75442,     0.75427,     0.75411,     0.75396,     0.75381,     0.75366,     0.75351,      0.7535,      0.7535,      0.7535,\n",
              "             0.7535,      0.7535,      0.7535,      0.7535,      0.7535,      0.7535,     0.75315,     0.75263,     0.75211,     0.75158,     0.75106,      0.7507,      0.7507,      0.7507,      0.7507,      0.7507,     0.75021,     0.74906,     0.74791,      0.7451,      0.7451,      0.7451,      0.7451,\n",
              "              0.745,     0.74484,     0.74467,     0.74451,     0.74434,     0.74418,     0.74402,     0.74385,     0.74369,     0.74352,     0.74336,     0.74319,     0.74303,     0.74287,      0.7427,     0.74254,     0.74237,     0.74196,     0.74132,     0.74068,     0.74005,      0.7395,      0.7395,\n",
              "             0.7395,      0.7395,      0.7389,     0.73808,     0.73726,      0.7361,     0.73419,     0.73362,      0.7333,     0.73299,     0.73267,     0.73235,     0.73203,     0.73171,     0.73139,     0.73107,     0.73068,      0.7303,     0.72992,     0.72954,     0.72915,     0.72877,     0.72839,\n",
              "            0.72768,     0.72686,     0.72604,     0.72522,      0.7244,     0.72358,     0.72276,     0.72269,     0.72269,     0.72269,     0.72264,     0.71984,     0.71869,     0.71754,     0.71665,     0.71594,     0.71522,      0.7145,     0.71371,     0.71289,     0.71207,     0.71134,     0.71081,\n",
              "            0.71029,     0.70977,     0.70925,     0.70873,     0.70837,     0.70803,      0.7077,     0.70736,     0.70702,     0.70668,     0.70635,     0.70601,     0.70528,     0.70432,     0.70337,     0.70241,     0.70145,      0.7005,      0.7001,     0.69987,     0.69964,     0.69941,     0.69918,\n",
              "            0.69895,     0.69872,     0.69849,     0.69826,     0.69804,     0.69781,     0.69758,     0.69692,     0.69597,     0.69501,     0.69343,     0.69133,     0.68587,     0.68395,     0.68204,     0.68012,     0.67821,     0.67728,     0.67656,     0.67584,     0.67513,     0.67474,     0.67438,\n",
              "            0.67402,     0.67366,      0.6733,     0.67295,     0.67259,     0.67194,      0.6692,     0.66728,     0.66611,     0.66529,     0.66447,     0.66336,     0.66145,     0.66068,      0.6602,     0.65972,     0.65925,     0.65877,     0.65829,     0.65826,     0.65757,     0.65685,     0.65613,\n",
              "            0.65546,     0.65546,     0.65524,     0.65332,     0.65266,     0.65266,     0.65266,     0.65266,     0.65158,     0.65015,     0.63806,     0.63614,     0.62465,     0.62465,     0.62159,     0.62095,     0.62031,     0.61967,     0.61903,     0.61807,     0.61711,     0.61291,     0.60891,\n",
              "            0.60423,     0.60099,     0.59835,     0.59583,     0.59468,     0.59308,     0.58768,     0.58577,      0.5807,     0.57943,     0.57895,     0.57847,     0.57799,     0.57751,     0.57703,     0.57137,     0.56583,     0.55703,     0.55407,     0.55311,     0.55215,     0.55182,     0.55126,\n",
              "            0.55044,     0.54962,     0.54826,     0.54456,     0.54112,     0.53904,     0.53014,      0.5269,     0.51541,     0.51435,      0.5132,     0.51168,     0.50689,     0.49987,       0.497,     0.49291,     0.49195,     0.49099,     0.48924,     0.48544,     0.47837,      0.4755,     0.47263,\n",
              "            0.46976,     0.46599,     0.45744,     0.45414,     0.45098,       0.447,     0.44008,     0.43516,     0.43139,     0.42577,     0.42004,     0.41136,     0.40729,     0.40268,     0.39455,     0.38839,     0.38375,     0.38173,     0.37117,     0.36542,     0.35771,     0.35394,      0.3454,\n",
              "            0.34104,     0.33913,     0.33097,     0.32228,     0.31661,     0.30757,     0.30642,     0.30506,     0.30092,      0.2986,     0.29669,     0.29478,     0.28755,     0.27621,     0.26486,     0.25912,     0.24843,     0.24729,     0.24469,     0.23895,     0.23321,     0.23082,     0.22851,\n",
              "            0.22564,     0.21584,     0.20869,     0.20436,     0.20107,     0.19992,     0.19273,     0.18733,     0.18446,      0.1783,     0.17256,     0.16324,      0.1564,     0.15449,     0.14959,      0.1453,     0.14415,       0.143,     0.13783,     0.13316,     0.13173,     0.12893,     0.12605,\n",
              "            0.12266,     0.12151,     0.11744,     0.11475,      0.1138,     0.11284,     0.11156,     0.10813,     0.10509,     0.10341,     0.10245,      0.1015,     0.10048,     0.09933,    0.098181,    0.093006,    0.083243,    0.081329,    0.077105,    0.072838,    0.067095,    0.058552,    0.052809,\n",
              "           0.043141,    0.035722,    0.027406,    0.026448,    0.025491,    0.024399,    0.023251,    0.018074,    0.011065,    0.010586,    0.010108,   0.0096294,   0.0091508,   0.0086723,   0.0079003,   0.0067518,   0.0056034,   0.0050807,   0.0045587,   0.0040366,   0.0035146,   0.0029926,           0,\n",
              "                  0,           0,           0,           0,           0,           0,           0,           0,           0,           0,           0,           0,           0,           0,           0,           0,           0,           0,           0,           0,           0,           0,           0,\n",
              "                  0,           0,           0,           0,           0,           0,           0,           0,           0,           0,           0]]), 'Confidence', 'Recall']]\n",
              "fitness: np.float64(0.5691390563471757)\n",
              "keys: ['metrics/precision(B)', 'metrics/recall(B)', 'metrics/mAP50(B)', 'metrics/mAP50-95(B)']\n",
              "maps: array([    0.53338])\n",
              "names: {0: 'face'}\n",
              "nt_per_class: array([357])\n",
              "nt_per_image: array([260])\n",
              "results_dict: {'metrics/precision(B)': np.float64(0.8803266904080204), 'metrics/recall(B)': np.float64(0.8242124222516379), 'metrics/mAP50(B)': np.float64(0.8909591149682781), 'metrics/mAP50-95(B)': np.float64(0.533381272055942), 'fitness': np.float64(0.5691390563471757)}\n",
              "save_dir: PosixPath('runs/detect/train2')\n",
              "speed: {'preprocess': 0.24981858461370182, 'inference': 2.6111867846164105, 'loss': 0.0006307384620203476, 'postprocess': 5.529718580767342}\n",
              "stats: {'tp': [], 'conf': [], 'pred_cls': [], 'target_cls': [], 'target_img': []}\n",
              "task: 'detect'"
            ]
          },
          "metadata": {},
          "execution_count": 35
        }
      ]
    },
    {
      "cell_type": "markdown",
      "source": [
        "# **Loop Principal — Detecção de rostos com YOLO**\n",
        "Nesta parte, o modelo YOLO é integrado ao fluxo da câmera para fazer a detecção de rostos em tempo real."
      ],
      "metadata": {
        "id": "V2qD_3upiNr1"
      }
    },
    {
      "cell_type": "code",
      "source": [
        "@contextmanager\n",
        "def suppress_all_output():\n",
        "    with open(os.devnull, 'w') as devnull:\n",
        "        with redirect_stdout(devnull), redirect_stderr(devnull):\n",
        "            logging.disable(logging.CRITICAL)\n",
        "            try:\n",
        "                yield\n",
        "            finally:\n",
        "                logging.disable(logging.NOTSET)"
      ],
      "metadata": {
        "id": "E1vQ64xzzRX6"
      },
      "execution_count": 50,
      "outputs": []
    },
    {
      "cell_type": "code",
      "source": [
        "video_stream()\n",
        "\n",
        "\n",
        "label_html = 'Detectando rostos com YOLO...'\n",
        "bbox = ''\n",
        "\n",
        "while True:\n",
        "    js_reply = video_frame(label_html, bbox)\n",
        "    if not js_reply:\n",
        "        break\n",
        "\n",
        "    img = js_to_image(js_reply[\"img\"])\n",
        "    bbox_array = np.zeros([480, 640, 4], dtype=np.uint8)\n",
        "\n",
        "    with suppress_all_output():\n",
        "        results = model(img)\n",
        "\n",
        "    # Desenha bounding boxes\n",
        "    for r in results:\n",
        "        for box in r.boxes:\n",
        "            x1, y1, x2, y2 = box.xyxy[0].tolist()\n",
        "            x1, y1, x2, y2 = map(int, [x1, y1, x2, y2])\n",
        "            bbox_array = cv2.rectangle(bbox_array, (x1, y1), (x2, y2), (255, 0, 0), 2)\n",
        "\n",
        "    # Cria overlay com transparência\n",
        "    bbox_array[:, :, 3] = (bbox_array.max(axis=2) > 0).astype(np.uint8) * 255\n",
        "    bbox = bbox_to_bytes(bbox_array)"
      ],
      "metadata": {
        "id": "sdIf575ggjmf",
        "collapsed": true
      },
      "execution_count": null,
      "outputs": []
    },
    {
      "cell_type": "markdown",
      "source": [
        "# **Teste único do modelo treinado (YOLOv8)**\n",
        "\n",
        "Esta célula realiza um **teste simples com imagem estática** para verificar se o modelo YOLO treinado está funcionando corretamente.=\n",
        "---"
      ],
      "metadata": {
        "id": "JRbY13Ybgoa1"
      }
    },
    {
      "cell_type": "code",
      "source": [
        "import matplotlib.pyplot as plt\n",
        "from google.colab import files"
      ],
      "metadata": {
        "id": "Dnn86yDdgCM1"
      },
      "execution_count": null,
      "outputs": []
    },
    {
      "cell_type": "code",
      "source": [
        "def mostrar(frame):\n",
        "    imagem = cv2.imread(frame)\n",
        "    if imagem is None:\n",
        "        print(f\"Erro: imagem '{frame}' não encontrada.\")\n",
        "        return\n",
        "    fig = plt.gcf()\n",
        "    fig.set_size_inches(18, 10)\n",
        "    plt.axis('off')\n",
        "    plt.imshow(cv2.cvtColor(imagem, cv2.COLOR_BGR2RGB))\n",
        "    plt.show()"
      ],
      "metadata": {
        "id": "1pFcsm1TggzS"
      },
      "execution_count": null,
      "outputs": []
    },
    {
      "cell_type": "code",
      "source": [
        "uploaded = files.upload()\n",
        "image_path = next(iter(uploaded))"
      ],
      "metadata": {
        "id": "L36UkGQzDrBV"
      },
      "execution_count": null,
      "outputs": []
    },
    {
      "cell_type": "code",
      "source": [
        "results = model(image_path)\n",
        "results[0].save(filename='predictions.jpg')"
      ],
      "metadata": {
        "id": "mlv4L3O01YFq"
      },
      "execution_count": null,
      "outputs": []
    },
    {
      "cell_type": "code",
      "source": [
        "mostrar('predictions.jpg')"
      ],
      "metadata": {
        "id": "RbZ0cjMVDxY5"
      },
      "execution_count": null,
      "outputs": []
    }
  ]
}